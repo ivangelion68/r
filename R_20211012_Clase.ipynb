{
  "nbformat": 4,
  "nbformat_minor": 0,
  "metadata": {
    "colab": {
      "name": "R-20211007-Clase.ipynb",
      "provenance": [],
      "collapsed_sections": [],
      "authorship_tag": "ABX9TyO5L7W/M7pZCDv93PTPa1Vc",
      "include_colab_link": true
    },
    "kernelspec": {
      "name": "ir",
      "display_name": "R"
    },
    "language_info": {
      "name": "R"
    }
  },
  "cells": [
    {
      "cell_type": "markdown",
      "metadata": {
        "id": "view-in-github",
        "colab_type": "text"
      },
      "source": [
        "<a href=\"https://colab.research.google.com/github/ivangelion68/r/blob/main/R_20211012_Clase.ipynb\" target=\"_parent\"><img src=\"https://colab.research.google.com/assets/colab-badge.svg\" alt=\"Open In Colab\"/></a>"
      ]
    },
    {
      "cell_type": "code",
      "metadata": {
        "id": "7L8pT4m1ZXo4"
      },
      "source": [
        "system('sudo apt-get install -y librsvg2-dev libxslt1-dev libudunits2-dev libmagick++-dev cargo libpoppler-cpp-dev libavfilter-dev libtesseract-dev libleptonica-dev tesseract-ocr-eng', intern=TRUE)"
      ],
      "execution_count": null,
      "outputs": []
    },
    {
      "cell_type": "code",
      "metadata": {
        "id": "7OtVG6SHxuVp"
      },
      "source": [
        "instprep<-c(\"tidyverse\",\"dlookr\",\"visdat\",\"inspectdf\",\"qqplotr\",\"funModeling\",\"flextable\",\"outliers\", \"plotly\",\"VIM\",\"mice\",\"samplingbook\", \"rmarkdown\", \"qcc\", \"visdat\", \"ggpmisc\", \"PerformanceAnalytics\")"
      ],
      "execution_count": null,
      "outputs": []
    },
    {
      "cell_type": "code",
      "metadata": {
        "id": "3QsDk3VSxxHb"
      },
      "source": [
        "install.packages(instprep,dependencies = T, configure.args = c(\"--with-proj-lib=$R_HOME/lib\"),repos=\"https://cran.r-project.org/\")"
      ],
      "execution_count": null,
      "outputs": []
    },
    {
      "cell_type": "code",
      "metadata": {
        "id": "NHljkZ7yrf79"
      },
      "source": [
        "getwd()"
      ],
      "execution_count": null,
      "outputs": []
    },
    {
      "cell_type": "code",
      "metadata": {
        "id": "xtX4Q7OjrlxQ"
      },
      "source": [
        "library(tidyverse)\n",
        "library(visdat)\n",
        "library(dlookr)\n",
        "library(funModeling)\n",
        "library(flextable) \n",
        "library(inspectdf) \n",
        "library(qqplotr) \n",
        "library(ggpmisc)\n",
        "library(PerformanceAnalytics)\n",
        "library(corrplot)\n",
        "library(ggpubr)"
      ],
      "execution_count": null,
      "outputs": []
    },
    {
      "cell_type": "code",
      "metadata": {
        "id": "QuB7WCuVXn5v"
      },
      "source": [
        ""
      ],
      "execution_count": null,
      "outputs": []
    }
  ]
}