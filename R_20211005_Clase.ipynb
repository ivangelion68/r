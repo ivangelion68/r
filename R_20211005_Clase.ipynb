{
  "nbformat": 4,
  "nbformat_minor": 0,
  "metadata": {
    "colab": {
      "name": "R-20211005-Clase.ipynb",
      "provenance": [],
      "collapsed_sections": [],
      "authorship_tag": "ABX9TyMA6ADBPgIVkAfHTOsmEa8o",
      "include_colab_link": true
    },
    "kernelspec": {
      "name": "ir",
      "display_name": "R"
    },
    "language_info": {
      "name": "R"
    }
  },
  "cells": [
    {
      "cell_type": "markdown",
      "metadata": {
        "id": "view-in-github",
        "colab_type": "text"
      },
      "source": [
        "<a href=\"https://colab.research.google.com/github/ivangelion68/r/blob/main/R_20211005_Clase.ipynb\" target=\"_parent\"><img src=\"https://colab.research.google.com/assets/colab-badge.svg\" alt=\"Open In Colab\"/></a>"
      ]
    },
    {
      "cell_type": "code",
      "metadata": {
        "id": "7L8pT4m1ZXo4"
      },
      "source": [
        "system('sudo apt-get install -y librsvg2-dev', intern=TRUE)"
      ],
      "execution_count": null,
      "outputs": []
    },
    {
      "cell_type": "code",
      "metadata": {
        "id": "LzIuglaDFp61"
      },
      "source": [
        "install.packages(\"tidyverse\",repos=\"https://cran.r-project.org/\", dependencies = TRUE, configure.args = c(\"--with-proj-lib=$R_HOME/lib\"))"
      ],
      "execution_count": null,
      "outputs": []
    },
    {
      "cell_type": "code",
      "metadata": {
        "id": "lNg6opq1VlmG"
      },
      "source": [
        "install.packages(\"dlookr\",repos=\"https://cran.r-project.org/\", dependencies = TRUE, configure.args = c(\"--with-proj-lib=$R_HOME/lib\"))"
      ],
      "execution_count": null,
      "outputs": []
    },
    {
      "cell_type": "code",
      "metadata": {
        "id": "JjJlus54VpsD"
      },
      "source": [
        "# devtools::install_github(\"choonghyunryu/dlookr\")"
      ],
      "execution_count": null,
      "outputs": []
    },
    {
      "cell_type": "code",
      "metadata": {
        "id": "t_MTXtoiVvJ9"
      },
      "source": [
        "install.packages(\"funModeling\")"
      ],
      "execution_count": null,
      "outputs": []
    },
    {
      "cell_type": "code",
      "metadata": {
        "id": "8bfkCBLLVvME"
      },
      "source": [
        "install.packages(\"rmarkdown\")"
      ],
      "execution_count": null,
      "outputs": []
    },
    {
      "cell_type": "code",
      "metadata": {
        "id": "E3RJWQGAVvOf"
      },
      "source": [
        "install.packages(\"qcc\")"
      ],
      "execution_count": null,
      "outputs": []
    },
    {
      "cell_type": "code",
      "metadata": {
        "id": "Ykw5-JjAebM-"
      },
      "source": [
        "install.packages(\"visdat\")"
      ],
      "execution_count": null,
      "outputs": []
    },
    {
      "cell_type": "code",
      "metadata": {
        "id": "OsT67bHBekLd"
      },
      "source": [
        "install.packages(\"inspectdf\")"
      ],
      "execution_count": null,
      "outputs": []
    },
    {
      "cell_type": "code",
      "metadata": {
        "id": "KobH3Hflez2m"
      },
      "source": [
        "install.packages(\"flextable\")"
      ],
      "execution_count": null,
      "outputs": []
    },
    {
      "cell_type": "code",
      "metadata": {
        "id": "jUcEQsVRV38E"
      },
      "source": [
        "library(qcc)\n",
        "freq.caus <- c(6, 22, 13, 2, 5)\n",
        "names(freq.caus) <- c(\"fluct.pot\", \"contr.inest\", \"error.oper\", \"herramgast\", \"otra\")\n",
        "\n",
        "#png(\"part1.png\",width = 7, height =6,units = \"in\",pointsize = 16,res = 300)\n",
        "pareto.chart(freq.caus, ylab = \"Frecuencia\",col=rainbow(length(freq.caus)))\n",
        "#dev.off()"
      ],
      "execution_count": null,
      "outputs": []
    },
    {
      "cell_type": "code",
      "metadata": {
        "id": "Dn5AK9xYeQWy"
      },
      "source": [
        "## LibrerÃ­as para EDA en R\n",
        "library(tidyverse)\n",
        "library(dlookr)\n",
        "library(visdat)\n",
        "library(inspectdf)\n",
        "library(funModeling)\n",
        "library(flextable)"
      ],
      "execution_count": null,
      "outputs": []
    },
    {
      "cell_type": "code",
      "metadata": {
        "colab": {
          "base_uri": "https://localhost:8080/",
          "height": 34
        },
        "id": "KZupg386eVPa",
        "outputId": "a6db8d6c-8133-4b7c-a3df-c16bb64bd963"
      },
      "source": [
        "getwd()"
      ],
      "execution_count": 15,
      "outputs": [
        {
          "output_type": "display_data",
          "data": {
            "text/plain": [
              "[1] \"/content\""
            ],
            "text/latex": "'/content'",
            "text/markdown": "'/content'",
            "text/html": [
              "'/content'"
            ]
          },
          "metadata": {}
        }
      ]
    },
    {
      "cell_type": "code",
      "metadata": {
        "id": "YhotKHwafgJL"
      },
      "source": [
        "data_ej1<-read.csv(\"sillaut.csv\",sep = \",\",header = T)"
      ],
      "execution_count": 16,
      "outputs": []
    },
    {
      "cell_type": "code",
      "metadata": {
        "colab": {
          "base_uri": "https://localhost:8080/",
          "height": 34
        },
        "id": "Jagw4hBOfjyc",
        "outputId": "2963e562-ae7d-42d3-e2c7-c5c2e24bdc90"
      },
      "source": [
        "dim(data_ej1)"
      ],
      "execution_count": 17,
      "outputs": [
        {
          "output_type": "display_data",
          "data": {
            "text/plain": [
              "[1] 400  11"
            ],
            "text/latex": "\\begin{enumerate*}\n\\item 400\n\\item 11\n\\end{enumerate*}\n",
            "text/markdown": "1. 400\n2. 11\n\n\n",
            "text/html": [
              "<style>\n",
              ".list-inline {list-style: none; margin:0; padding: 0}\n",
              ".list-inline>li {display: inline-block}\n",
              ".list-inline>li:not(:last-child)::after {content: \"\\00b7\"; padding: 0 .5ex}\n",
              "</style>\n",
              "<ol class=list-inline><li>400</li><li>11</li></ol>\n"
            ]
          },
          "metadata": {}
        }
      ]
    },
    {
      "cell_type": "code",
      "metadata": {
        "colab": {
          "base_uri": "https://localhost:8080/",
          "height": 306
        },
        "id": "lz4Sjf_zflpc",
        "outputId": "498432a5-8acb-4296-fb2f-661055f0efb8"
      },
      "source": [
        "head(data_ej1)"
      ],
      "execution_count": 18,
      "outputs": [
        {
          "output_type": "display_data",
          "data": {
            "text/plain": [
              "  Ventas PrecioComp Ingresos Presup.Publicidad Poblacion PrecioVenta\n",
              "1  9.50  138         73      11                276       120        \n",
              "2 11.22  111         48      16                260        83        \n",
              "3 10.06  113         35      10                269        80        \n",
              "4  7.40  117        100       4                466        97        \n",
              "5  4.15  141         64       3                340       128        \n",
              "6 10.81  124        113      13                501        72        \n",
              "  CalidadUbic EdadM NEducacion Ubicacion US \n",
              "1 Bad         42    17         Yes       Yes\n",
              "2 Good        65    10         Yes       Yes\n",
              "3 Medium      59    12         Yes       Yes\n",
              "4 Medium      55    14         Yes       Yes\n",
              "5 Bad         38    13         Yes       No \n",
              "6 Bad         78    16         No        Yes"
            ],
            "text/latex": "A data.frame: 6 × 11\n\\begin{tabular}{r|lllllllllll}\n  & Ventas & PrecioComp & Ingresos & Presup.Publicidad & Poblacion & PrecioVenta & CalidadUbic & EdadM & NEducacion & Ubicacion & US\\\\\n  & <dbl> & <int> & <int> & <int> & <int> & <int> & <chr> & <int> & <int> & <chr> & <chr>\\\\\n\\hline\n\t1 &  9.50 & 138 &  73 & 11 & 276 & 120 & Bad    & 42 & 17 & Yes & Yes\\\\\n\t2 & 11.22 & 111 &  48 & 16 & 260 &  83 & Good   & 65 & 10 & Yes & Yes\\\\\n\t3 & 10.06 & 113 &  35 & 10 & 269 &  80 & Medium & 59 & 12 & Yes & Yes\\\\\n\t4 &  7.40 & 117 & 100 &  4 & 466 &  97 & Medium & 55 & 14 & Yes & Yes\\\\\n\t5 &  4.15 & 141 &  64 &  3 & 340 & 128 & Bad    & 38 & 13 & Yes & No \\\\\n\t6 & 10.81 & 124 & 113 & 13 & 501 &  72 & Bad    & 78 & 16 & No  & Yes\\\\\n\\end{tabular}\n",
            "text/markdown": "\nA data.frame: 6 × 11\n\n| <!--/--> | Ventas &lt;dbl&gt; | PrecioComp &lt;int&gt; | Ingresos &lt;int&gt; | Presup.Publicidad &lt;int&gt; | Poblacion &lt;int&gt; | PrecioVenta &lt;int&gt; | CalidadUbic &lt;chr&gt; | EdadM &lt;int&gt; | NEducacion &lt;int&gt; | Ubicacion &lt;chr&gt; | US &lt;chr&gt; |\n|---|---|---|---|---|---|---|---|---|---|---|---|\n| 1 |  9.50 | 138 |  73 | 11 | 276 | 120 | Bad    | 42 | 17 | Yes | Yes |\n| 2 | 11.22 | 111 |  48 | 16 | 260 |  83 | Good   | 65 | 10 | Yes | Yes |\n| 3 | 10.06 | 113 |  35 | 10 | 269 |  80 | Medium | 59 | 12 | Yes | Yes |\n| 4 |  7.40 | 117 | 100 |  4 | 466 |  97 | Medium | 55 | 14 | Yes | Yes |\n| 5 |  4.15 | 141 |  64 |  3 | 340 | 128 | Bad    | 38 | 13 | Yes | No  |\n| 6 | 10.81 | 124 | 113 | 13 | 501 |  72 | Bad    | 78 | 16 | No  | Yes |\n\n",
            "text/html": [
              "<table class=\"dataframe\">\n",
              "<caption>A data.frame: 6 × 11</caption>\n",
              "<thead>\n",
              "\t<tr><th></th><th scope=col>Ventas</th><th scope=col>PrecioComp</th><th scope=col>Ingresos</th><th scope=col>Presup.Publicidad</th><th scope=col>Poblacion</th><th scope=col>PrecioVenta</th><th scope=col>CalidadUbic</th><th scope=col>EdadM</th><th scope=col>NEducacion</th><th scope=col>Ubicacion</th><th scope=col>US</th></tr>\n",
              "\t<tr><th></th><th scope=col>&lt;dbl&gt;</th><th scope=col>&lt;int&gt;</th><th scope=col>&lt;int&gt;</th><th scope=col>&lt;int&gt;</th><th scope=col>&lt;int&gt;</th><th scope=col>&lt;int&gt;</th><th scope=col>&lt;chr&gt;</th><th scope=col>&lt;int&gt;</th><th scope=col>&lt;int&gt;</th><th scope=col>&lt;chr&gt;</th><th scope=col>&lt;chr&gt;</th></tr>\n",
              "</thead>\n",
              "<tbody>\n",
              "\t<tr><th scope=row>1</th><td> 9.50</td><td>138</td><td> 73</td><td>11</td><td>276</td><td>120</td><td>Bad   </td><td>42</td><td>17</td><td>Yes</td><td>Yes</td></tr>\n",
              "\t<tr><th scope=row>2</th><td>11.22</td><td>111</td><td> 48</td><td>16</td><td>260</td><td> 83</td><td>Good  </td><td>65</td><td>10</td><td>Yes</td><td>Yes</td></tr>\n",
              "\t<tr><th scope=row>3</th><td>10.06</td><td>113</td><td> 35</td><td>10</td><td>269</td><td> 80</td><td>Medium</td><td>59</td><td>12</td><td>Yes</td><td>Yes</td></tr>\n",
              "\t<tr><th scope=row>4</th><td> 7.40</td><td>117</td><td>100</td><td> 4</td><td>466</td><td> 97</td><td>Medium</td><td>55</td><td>14</td><td>Yes</td><td>Yes</td></tr>\n",
              "\t<tr><th scope=row>5</th><td> 4.15</td><td>141</td><td> 64</td><td> 3</td><td>340</td><td>128</td><td>Bad   </td><td>38</td><td>13</td><td>Yes</td><td>No </td></tr>\n",
              "\t<tr><th scope=row>6</th><td>10.81</td><td>124</td><td>113</td><td>13</td><td>501</td><td> 72</td><td>Bad   </td><td>78</td><td>16</td><td>No </td><td>Yes</td></tr>\n",
              "</tbody>\n",
              "</table>\n"
            ]
          },
          "metadata": {}
        }
      ]
    },
    {
      "cell_type": "code",
      "metadata": {
        "colab": {
          "base_uri": "https://localhost:8080/"
        },
        "id": "tGUOUCCofoUt",
        "outputId": "9fdcd9e5-1a12-4eef-d941-fed03a130685"
      },
      "source": [
        "str(data_ej1)"
      ],
      "execution_count": 19,
      "outputs": [
        {
          "output_type": "stream",
          "name": "stdout",
          "text": [
            "'data.frame':\t400 obs. of  11 variables:\n",
            " $ Ventas           : num  9.5 11.22 10.06 7.4 4.15 ...\n",
            " $ PrecioComp       : int  138 111 113 117 141 124 115 136 132 132 ...\n",
            " $ Ingresos         : int  73 48 35 100 64 113 105 81 110 113 ...\n",
            " $ Presup.Publicidad: int  11 16 10 4 3 13 0 15 0 0 ...\n",
            " $ Poblacion        : int  276 260 269 466 340 501 45 425 108 131 ...\n",
            " $ PrecioVenta      : int  120 83 80 97 128 72 108 120 124 124 ...\n",
            " $ CalidadUbic      : chr  \"Bad\" \"Good\" \"Medium\" \"Medium\" ...\n",
            " $ EdadM            : int  42 65 59 55 38 78 71 67 76 76 ...\n",
            " $ NEducacion       : int  17 10 12 14 13 16 15 10 10 17 ...\n",
            " $ Ubicacion        : chr  \"Yes\" \"Yes\" \"Yes\" \"Yes\" ...\n",
            " $ US               : chr  \"Yes\" \"Yes\" \"Yes\" \"Yes\" ...\n"
          ]
        }
      ]
    },
    {
      "cell_type": "code",
      "metadata": {
        "colab": {
          "base_uri": "https://localhost:8080/",
          "height": 437
        },
        "id": "OMVbIDNIfuU_",
        "outputId": "d743ed9c-9fdc-481e-d18f-570f93e15d3f"
      },
      "source": [
        "visdat::vis_dat(data_ej1,sort_type = FALSE)"
      ],
      "execution_count": 20,
      "outputs": [
        {
          "output_type": "display_data",
          "data": {
            "image/png": "[encoded data removed]",
            "text/plain": [
              "plot without title"
            ]
          },
          "metadata": {
            "image/png": {
              "width": 420,
              "height": 420
            }
          }
        }
      ]
    },
    {
      "cell_type": "code",
      "metadata": {
        "colab": {
          "base_uri": "https://localhost:8080/",
          "height": 349
        },
        "id": "0AcgDo2wfycg",
        "outputId": "f81a6e09-f781-4400-ee15-ef1a146e57a2"
      },
      "source": [
        "diagnose(data_ej1) %>% flextable()"
      ],
      "execution_count": 21,
      "outputs": [
        {
          "output_type": "display_data",
          "data": {
            "text/plain": [
              "a flextable object.\n",
              "col_keys: `variables`, `types`, `missing_count`, `missing_percent`, `unique_count`, `unique_rate` \n",
              "header has 1 row(s) \n",
              "body has 11 row(s) \n",
              "original dataset sample: \n",
              "          variables   types missing_count missing_percent unique_count\n",
              "1            Ventas numeric             0               0          336\n",
              "2        PrecioComp integer             0               0           73\n",
              "3          Ingresos integer             0               0           98\n",
              "4 Presup.Publicidad integer             0               0           28\n",
              "5         Poblacion integer             0               0          275\n",
              "  unique_rate\n",
              "1      0.8400\n",
              "2      0.1825\n",
              "3      0.2450\n",
              "4      0.0700\n",
              "5      0.6875"
            ]
          },
          "metadata": {}
        }
      ]
    },
    {
      "cell_type": "code",
      "metadata": {
        "id": "gDaLL0m5f2Ry"
      },
      "source": [
        "tb.freq<-function(x){\n",
        "  f_i<-as.vector(table(x)) #freq absoluta\n",
        "  F_i<-cumsum(f_i) #freq acumulada\n",
        "  h_i<-f_i/length(x) #freq relativa\n",
        "  H_i<-F_i/length(x) #freq relativa acumulada\n",
        "  tf<-cbind(f_i,F_i,h_i,H_i)\n",
        "  row.names(tf)<-names(table(x))\n",
        "  tf\n",
        "}"
      ],
      "execution_count": 22,
      "outputs": []
    },
    {
      "cell_type": "code",
      "metadata": {
        "colab": {
          "base_uri": "https://localhost:8080/",
          "height": 161
        },
        "id": "VUj6Ct75f5rA",
        "outputId": "8de2f967-c884-4267-8a9a-a7c8bdfcd925"
      },
      "source": [
        "tb.freq(data_ej1$CalidadUbic)"
      ],
      "execution_count": 23,
      "outputs": [
        {
          "output_type": "display_data",
          "data": {
            "text/plain": [
              "       f_i F_i h_i    H_i   \n",
              "Bad     96  96 0.2400 0.2400\n",
              "Good    85 181 0.2125 0.4525\n",
              "Medium 219 400 0.5475 1.0000"
            ],
            "text/latex": "A matrix: 3 × 4 of type dbl\n\\begin{tabular}{r|llll}\n  & f\\_i & F\\_i & h\\_i & H\\_i\\\\\n\\hline\n\tBad &  96 &  96 & 0.2400 & 0.2400\\\\\n\tGood &  85 & 181 & 0.2125 & 0.4525\\\\\n\tMedium & 219 & 400 & 0.5475 & 1.0000\\\\\n\\end{tabular}\n",
            "text/markdown": "\nA matrix: 3 × 4 of type dbl\n\n| <!--/--> | f_i | F_i | h_i | H_i |\n|---|---|---|---|---|\n| Bad |  96 |  96 | 0.2400 | 0.2400 |\n| Good |  85 | 181 | 0.2125 | 0.4525 |\n| Medium | 219 | 400 | 0.5475 | 1.0000 |\n\n",
            "text/html": [
              "<table class=\"dataframe\">\n",
              "<caption>A matrix: 3 × 4 of type dbl</caption>\n",
              "<thead>\n",
              "\t<tr><th></th><th scope=col>f_i</th><th scope=col>F_i</th><th scope=col>h_i</th><th scope=col>H_i</th></tr>\n",
              "</thead>\n",
              "<tbody>\n",
              "\t<tr><th scope=row>Bad</th><td> 96</td><td> 96</td><td>0.2400</td><td>0.2400</td></tr>\n",
              "\t<tr><th scope=row>Good</th><td> 85</td><td>181</td><td>0.2125</td><td>0.4525</td></tr>\n",
              "\t<tr><th scope=row>Medium</th><td>219</td><td>400</td><td>0.5475</td><td>1.0000</td></tr>\n",
              "</tbody>\n",
              "</table>\n"
            ]
          },
          "metadata": {}
        }
      ]
    },
    {
      "cell_type": "code",
      "metadata": {
        "colab": {
          "base_uri": "https://localhost:8080/",
          "height": 129
        },
        "id": "ZrJUqCtUf-h-",
        "outputId": "98cd7dea-e39e-4afe-f66c-c3336faead22"
      },
      "source": [
        "tb.freq(data_ej1$Ubicacion)"
      ],
      "execution_count": 24,
      "outputs": [
        {
          "output_type": "display_data",
          "data": {
            "text/plain": [
              "    f_i F_i h_i   H_i  \n",
              "No  118 118 0.295 0.295\n",
              "Yes 282 400 0.705 1.000"
            ],
            "text/latex": "A matrix: 2 × 4 of type dbl\n\\begin{tabular}{r|llll}\n  & f\\_i & F\\_i & h\\_i & H\\_i\\\\\n\\hline\n\tNo & 118 & 118 & 0.295 & 0.295\\\\\n\tYes & 282 & 400 & 0.705 & 1.000\\\\\n\\end{tabular}\n",
            "text/markdown": "\nA matrix: 2 × 4 of type dbl\n\n| <!--/--> | f_i | F_i | h_i | H_i |\n|---|---|---|---|---|\n| No | 118 | 118 | 0.295 | 0.295 |\n| Yes | 282 | 400 | 0.705 | 1.000 |\n\n",
            "text/html": [
              "<table class=\"dataframe\">\n",
              "<caption>A matrix: 2 × 4 of type dbl</caption>\n",
              "<thead>\n",
              "\t<tr><th></th><th scope=col>f_i</th><th scope=col>F_i</th><th scope=col>h_i</th><th scope=col>H_i</th></tr>\n",
              "</thead>\n",
              "<tbody>\n",
              "\t<tr><th scope=row>No</th><td>118</td><td>118</td><td>0.295</td><td>0.295</td></tr>\n",
              "\t<tr><th scope=row>Yes</th><td>282</td><td>400</td><td>0.705</td><td>1.000</td></tr>\n",
              "</tbody>\n",
              "</table>\n"
            ]
          },
          "metadata": {}
        }
      ]
    },
    {
      "cell_type": "code",
      "metadata": {
        "id": "fyYsGoxYf_36"
      },
      "source": [
        "tab<-table(data_ej1$CalidadUbic)"
      ],
      "execution_count": 25,
      "outputs": []
    },
    {
      "cell_type": "code",
      "metadata": {
        "colab": {
          "base_uri": "https://localhost:8080/",
          "height": 72
        },
        "id": "etO4wA_igBlU",
        "outputId": "795eae2d-be10-46b8-c071-5175aa4d8a8c"
      },
      "source": [
        "prop.table(tab)"
      ],
      "execution_count": 26,
      "outputs": [
        {
          "output_type": "display_data",
          "data": {
            "text/plain": [
              "\n",
              "   Bad   Good Medium \n",
              "0.2400 0.2125 0.5475 "
            ]
          },
          "metadata": {}
        }
      ]
    },
    {
      "cell_type": "code",
      "metadata": {
        "id": "YannoARTgC04"
      },
      "source": [
        "porcentaje= round(100*(tab)/sum(tab),2)"
      ],
      "execution_count": 27,
      "outputs": []
    },
    {
      "cell_type": "code",
      "metadata": {
        "id": "eP3vUIpLgGll"
      },
      "source": [
        "lab=paste(porcentaje,\"%\")"
      ],
      "execution_count": 28,
      "outputs": []
    },
    {
      "cell_type": "code",
      "metadata": {
        "colab": {
          "base_uri": "https://localhost:8080/",
          "height": 437
        },
        "id": "GOjCnLIIgSYV",
        "outputId": "9c1b25bb-a2eb-4e3b-f40d-8cd45305881a"
      },
      "source": [
        "pie(tab, col=rainbow(3), labels=lab, main=\"Calidad\", border=\"white\")\n",
        "legend(\"topleft\", legend=c(\"Bad\", \"Good\",\"Medium\"), fill=rainbow(3))"
      ],
      "execution_count": 31,
      "outputs": [
        {
          "output_type": "display_data",
          "data": {
            "image/png": "[encoded data removed]",
            "text/plain": [
              "Plot with title “Calidad”"
            ]
          },
          "metadata": {
            "image/png": {
              "width": 420,
              "height": 420
            }
          }
        }
      ]
    },
    {
      "cell_type": "code",
      "metadata": {
        "colab": {
          "base_uri": "https://localhost:8080/",
          "height": 649
        },
        "id": "zHoUNmI8gVms",
        "outputId": "22a24507-5307-4852-acb0-7f448f88d3bf"
      },
      "source": [
        "funModeling::freq(data_ej1$CalidadUbic)"
      ],
      "execution_count": 32,
      "outputs": [
        {
          "output_type": "stream",
          "name": "stderr",
          "text": [
            "Warning message:\n",
            "“`guides(<scale> = FALSE)` is deprecated. Please use `guides(<scale> = \"none\")` instead.”\n"
          ]
        },
        {
          "output_type": "display_data",
          "data": {
            "text/plain": [
              "  var    frequency percentage cumulative_perc\n",
              "1 Medium 219       54.75       54.75         \n",
              "2 Bad     96       24.00       78.75         \n",
              "3 Good    85       21.25      100.00         "
            ],
            "text/latex": "A data.frame: 3 × 4\n\\begin{tabular}{llll}\n var & frequency & percentage & cumulative\\_perc\\\\\n <chr> & <int> & <dbl> & <dbl>\\\\\n\\hline\n\t Medium & 219 & 54.75 &  54.75\\\\\n\t Bad    &  96 & 24.00 &  78.75\\\\\n\t Good   &  85 & 21.25 & 100.00\\\\\n\\end{tabular}\n",
            "text/markdown": "\nA data.frame: 3 × 4\n\n| var &lt;chr&gt; | frequency &lt;int&gt; | percentage &lt;dbl&gt; | cumulative_perc &lt;dbl&gt; |\n|---|---|---|---|\n| Medium | 219 | 54.75 |  54.75 |\n| Bad    |  96 | 24.00 |  78.75 |\n| Good   |  85 | 21.25 | 100.00 |\n\n",
            "text/html": [
              "<table class=\"dataframe\">\n",
              "<caption>A data.frame: 3 × 4</caption>\n",
              "<thead>\n",
              "\t<tr><th scope=col>var</th><th scope=col>frequency</th><th scope=col>percentage</th><th scope=col>cumulative_perc</th></tr>\n",
              "\t<tr><th scope=col>&lt;chr&gt;</th><th scope=col>&lt;int&gt;</th><th scope=col>&lt;dbl&gt;</th><th scope=col>&lt;dbl&gt;</th></tr>\n",
              "</thead>\n",
              "<tbody>\n",
              "\t<tr><td>Medium</td><td>219</td><td>54.75</td><td> 54.75</td></tr>\n",
              "\t<tr><td>Bad   </td><td> 96</td><td>24.00</td><td> 78.75</td></tr>\n",
              "\t<tr><td>Good  </td><td> 85</td><td>21.25</td><td>100.00</td></tr>\n",
              "</tbody>\n",
              "</table>\n"
            ]
          },
          "metadata": {}
        },
        {
          "output_type": "display_data",
          "data": {
            "image/png": "[encoded data removed]",
            "text/plain": [
              "plot without title"
            ]
          },
          "metadata": {
            "image/png": {
              "width": 420,
              "height": 420
            }
          }
        }
      ]
    },
    {
      "cell_type": "code",
      "metadata": {
        "colab": {
          "base_uri": "https://localhost:8080/",
          "height": 219
        },
        "id": "c5eh-Teage25",
        "outputId": "28ebfd85-0e2d-486c-fd0f-dea08abbd9f3"
      },
      "source": [
        "diagnose_category(data_ej1) %>% flextable()"
      ],
      "execution_count": 33,
      "outputs": [
        {
          "output_type": "display_data",
          "data": {
            "text/plain": [
              "a flextable object.\n",
              "col_keys: `variables`, `levels`, `N`, `freq`, `ratio`, `rank` \n",
              "header has 1 row(s) \n",
              "body has 7 row(s) \n",
              "original dataset sample: \n",
              "    variables levels   N freq ratio rank\n",
              "1 CalidadUbic Medium 400  219 54.75    1\n",
              "2 CalidadUbic    Bad 400   96 24.00    2\n",
              "3 CalidadUbic   Good 400   85 21.25    3\n",
              "4   Ubicacion    Yes 400  282 70.50    1\n",
              "5   Ubicacion     No 400  118 29.50    2"
            ]
          },
          "metadata": {}
        }
      ]
    },
    {
      "cell_type": "code",
      "metadata": {
        "colab": {
          "base_uri": "https://localhost:8080/",
          "height": 90
        },
        "id": "wVXV6SQVgfnY",
        "outputId": "c1009392-a74e-4ce4-d7ca-53c381dcb6f9"
      },
      "source": [
        "xtabs(~ Ubicacion + CalidadUbic, data=data_ej1)"
      ],
      "execution_count": 34,
      "outputs": [
        {
          "output_type": "display_data",
          "data": {
            "text/plain": [
              "         CalidadUbic\n",
              "Ubicacion Bad Good Medium\n",
              "      No   22   28     68\n",
              "      Yes  74   57    151"
            ]
          },
          "metadata": {}
        }
      ]
    },
    {
      "cell_type": "code",
      "metadata": {
        "id": "tOLpb-2qhfh3"
      },
      "source": [
        "options(digits = 4)"
      ],
      "execution_count": 35,
      "outputs": []
    },
    {
      "cell_type": "code",
      "metadata": {
        "colab": {
          "base_uri": "https://localhost:8080/",
          "height": 34
        },
        "id": "JDPoXZwRhi9X",
        "outputId": "e9759119-871e-49cc-c603-0c448e22ec26"
      },
      "source": [
        "mean(data_ej1$Ventas)"
      ],
      "execution_count": 36,
      "outputs": [
        {
          "output_type": "display_data",
          "data": {
            "text/plain": [
              "[1] 7.496"
            ],
            "text/latex": "7.496325",
            "text/markdown": "7.496325",
            "text/html": [
              "7.496325"
            ]
          },
          "metadata": {}
        }
      ]
    },
    {
      "cell_type": "code",
      "metadata": {
        "colab": {
          "base_uri": "https://localhost:8080/",
          "height": 34
        },
        "id": "42xtXVgAhj_S",
        "outputId": "115cc370-5502-4b9c-c089-035c9cf0f0a0"
      },
      "source": [
        "median(data_ej1$Ventas)"
      ],
      "execution_count": 37,
      "outputs": [
        {
          "output_type": "display_data",
          "data": {
            "text/plain": [
              "[1] 7.49"
            ],
            "text/latex": "7.49",
            "text/markdown": "7.49",
            "text/html": [
              "7.49"
            ]
          },
          "metadata": {}
        }
      ]
    },
    {
      "cell_type": "code",
      "metadata": {
        "colab": {
          "base_uri": "https://localhost:8080/",
          "height": 34
        },
        "id": "yAUR5DeDhl3p",
        "outputId": "47ba982e-3314-4e25-e65d-b3e3169b275c"
      },
      "source": [
        "Q1<-quantile(data_ej1$Ventas,probs = 0.25)[[1]];Q1"
      ],
      "execution_count": 38,
      "outputs": [
        {
          "output_type": "display_data",
          "data": {
            "text/plain": [
              "[1] 5.39"
            ],
            "text/latex": "5.39",
            "text/markdown": "5.39",
            "text/html": [
              "5.39"
            ]
          },
          "metadata": {}
        }
      ]
    },
    {
      "cell_type": "code",
      "metadata": {
        "colab": {
          "base_uri": "https://localhost:8080/",
          "height": 34
        },
        "id": "01BB8Qt2hpGo",
        "outputId": "02a8fe7e-a486-4b2a-b122-b0c11fb36248"
      },
      "source": [
        "Q3<-quantile(data_ej1$Ventas,probs = 0.75)[[1]];Q3"
      ],
      "execution_count": 39,
      "outputs": [
        {
          "output_type": "display_data",
          "data": {
            "text/plain": [
              "[1] 9.32"
            ],
            "text/latex": "9.32",
            "text/markdown": "9.32",
            "text/html": [
              "9.32"
            ]
          },
          "metadata": {}
        }
      ]
    },
    {
      "cell_type": "code",
      "metadata": {
        "colab": {
          "base_uri": "https://localhost:8080/",
          "height": 34
        },
        "id": "E-TdVeUkhqQs",
        "outputId": "531eb6bb-3a58-4673-fa1c-c6683b20e004"
      },
      "source": [
        "var(data_ej1$Ventas)"
      ],
      "execution_count": 40,
      "outputs": [
        {
          "output_type": "display_data",
          "data": {
            "text/plain": [
              "[1] 7.976"
            ],
            "text/latex": "7.97562580889724",
            "text/markdown": "7.97562580889724",
            "text/html": [
              "7.97562580889724"
            ]
          },
          "metadata": {}
        }
      ]
    },
    {
      "cell_type": "code",
      "metadata": {
        "colab": {
          "base_uri": "https://localhost:8080/",
          "height": 34
        },
        "id": "Mwc5_Sz3hsq1",
        "outputId": "061904c5-1b34-4fe6-b55c-471569e49fc0"
      },
      "source": [
        "sd(data_ej1$Ventas)"
      ],
      "execution_count": 41,
      "outputs": [
        {
          "output_type": "display_data",
          "data": {
            "text/plain": [
              "[1] 2.824"
            ],
            "text/latex": "2.82411504880684",
            "text/markdown": "2.82411504880684",
            "text/html": [
              "2.82411504880684"
            ]
          },
          "metadata": {}
        }
      ]
    },
    {
      "cell_type": "code",
      "metadata": {
        "colab": {
          "base_uri": "https://localhost:8080/",
          "height": 34
        },
        "id": "AKtcrU8Whute",
        "outputId": "7933ca09-bcf9-4d28-a4ab-d6141117b291"
      },
      "source": [
        "IQR(data_ej1$Ventas)"
      ],
      "execution_count": 42,
      "outputs": [
        {
          "output_type": "display_data",
          "data": {
            "text/plain": [
              "[1] 3.93"
            ],
            "text/latex": "3.93",
            "text/markdown": "3.93",
            "text/html": [
              "3.93"
            ]
          },
          "metadata": {}
        }
      ]
    },
    {
      "cell_type": "code",
      "metadata": {
        "id": "UtvHJJZwhwdq"
      },
      "source": [
        "c.skew<-function(x) {\n",
        "  m3=mean((x-mean(x))^3)\n",
        "  skew=m3/(sd(x)^3)\n",
        "  skew}"
      ],
      "execution_count": 43,
      "outputs": []
    },
    {
      "cell_type": "code",
      "metadata": {
        "colab": {
          "base_uri": "https://localhost:8080/",
          "height": 34
        },
        "id": "s-JqsyBdhzbb",
        "outputId": "86036a24-bba3-4dcb-ff1c-c981125667e4"
      },
      "source": [
        "c.skew(data_ej1$Ventas)"
      ],
      "execution_count": 44,
      "outputs": [
        {
          "output_type": "display_data",
          "data": {
            "text/plain": [
              "[1] 0.1842"
            ],
            "text/latex": "0.184170979967852",
            "text/markdown": "0.184170979967852",
            "text/html": [
              "0.184170979967852"
            ]
          },
          "metadata": {}
        }
      ]
    },
    {
      "cell_type": "code",
      "metadata": {
        "id": "EWI2yg96h1e5"
      },
      "source": [
        "CV<-function(x) {\n",
        "  cvar=sd(x)/mean(x)\n",
        "  cvar}"
      ],
      "execution_count": 45,
      "outputs": []
    },
    {
      "cell_type": "code",
      "metadata": {
        "colab": {
          "base_uri": "https://localhost:8080/",
          "height": 34
        },
        "id": "qSiG19eWh6Xu",
        "outputId": "e23c4ab6-c528-4412-f92e-c9ff502c9806"
      },
      "source": [
        "CV(data_ej1$Ventas)"
      ],
      "execution_count": 46,
      "outputs": [
        {
          "output_type": "display_data",
          "data": {
            "text/plain": [
              "[1] 0.3767"
            ],
            "text/latex": "0.376733272477759",
            "text/markdown": "0.376733272477759",
            "text/html": [
              "0.376733272477759"
            ]
          },
          "metadata": {}
        }
      ]
    },
    {
      "cell_type": "code",
      "metadata": {
        "id": "MoZCZ73Sh65S"
      },
      "source": [
        "whichar <- which(unlist(lapply(data_ej1, is.character))==TRUE)"
      ],
      "execution_count": 47,
      "outputs": []
    },
    {
      "cell_type": "code",
      "metadata": {
        "id": "V02L0Otah-bL"
      },
      "source": [
        "options(digits=2)"
      ],
      "execution_count": 48,
      "outputs": []
    },
    {
      "cell_type": "code",
      "metadata": {
        "id": "N9_KnXubh_dM"
      },
      "source": [
        "sumdesc<-t(sapply(data_ej1[,-whichar],FUN = summary))"
      ],
      "execution_count": 49,
      "outputs": []
    },
    {
      "cell_type": "code",
      "metadata": {
        "id": "eMotcTV6iAd2"
      },
      "source": [
        "write.csv(sumdesc,file=\"sumdesc.csv\")"
      ],
      "execution_count": 50,
      "outputs": []
    },
    {
      "cell_type": "code",
      "metadata": {
        "colab": {
          "base_uri": "https://localhost:8080/",
          "height": 369
        },
        "id": "4zSDS07NiBOL",
        "outputId": "f23745d1-52b0-4584-80ac-f8fef07b602a"
      },
      "source": [
        "dlookr::describe(data_ej1)"
      ],
      "execution_count": 51,
      "outputs": [
        {
          "output_type": "display_data",
          "data": {
            "text/plain": [
              "  variable          n   na mean  sd    se_mean IQR   skewness kurtosis p00 ⋯\n",
              "1 Ventas            400 0    7.5   2.8 0.14      3.9  0.186   -0.081    0  ⋯\n",
              "2 PrecioComp        400 0  125.0  15.3 0.77     20.0 -0.043    0.042   77  ⋯\n",
              "3 Ingresos          400 0   68.7  28.0 1.40     48.2  0.049   -1.085   21  ⋯\n",
              "4 Presup.Publicidad 400 0    6.6   6.7 0.33     12.0  0.640   -0.545    0  ⋯\n",
              "5 Poblacion         400 0  264.8 147.4 7.37    259.5 -0.051   -1.202   10  ⋯\n",
              "6 PrecioVenta       400 0  115.8  23.7 1.18     31.0 -0.125    0.452   24  ⋯\n",
              "7 EdadM             400 0   53.3  16.2 0.81     26.2 -0.077   -1.134   25  ⋯\n",
              "8 NEducacion        400 0   13.9   2.6 0.13      4.0  0.044   -1.298   10  ⋯\n",
              "  p40   p50   p60   p70   p75   p80   p90 p95 p99 p100\n",
              "1   6.6   7.5   8.1   8.8   9.3   9.8  11  12  14  16 \n",
              "2 121.0 125.0 130.0 133.0 135.0 137.2 145 150 159 175 \n",
              "3  62.0  69.0  77.0  84.6  91.0  96.2 107 115 119 120 \n",
              "4   2.0   5.0   8.4  11.0  12.0  13.0  16  19  23  29 \n",
              "5 218.6 272.0 317.8 366.0 398.5 412.2 467 493 504 509 \n",
              "6 110.0 117.0 122.0 128.3 131.0 134.0 146 155 166 191 \n",
              "7  48.6  54.5  60.0  64.0  66.0  70.0  76  79  80  80 \n",
              "8  13.0  14.0  15.0  16.0  16.0  17.0  17  18  18  18 "
            ],
            "text/latex": "A tibble: 8 × 26\n\\begin{tabular}{lllllllllllllllllllll}\n variable & n & na & mean & sd & se\\_mean & IQR & skewness & kurtosis & p00 & ⋯ & p40 & p50 & p60 & p70 & p75 & p80 & p90 & p95 & p99 & p100\\\\\n <chr> & <int> & <int> & <dbl> & <dbl> & <dbl> & <dbl> & <dbl> & <dbl> & <dbl> & ⋯ & <dbl> & <dbl> & <dbl> & <dbl> & <dbl> & <dbl> & <dbl> & <dbl> & <dbl> & <dbl>\\\\\n\\hline\n\t Ventas            & 400 & 0 &   7.5 &   2.8 & 0.14 &   3.9 &  0.186 & -0.081 &  0 & ⋯ &   6.6 &   7.5 &   8.1 &   8.8 &   9.3 &   9.8 &  11 &  12 &  14 &  16\\\\\n\t PrecioComp        & 400 & 0 & 125.0 &  15.3 & 0.77 &  20.0 & -0.043 &  0.042 & 77 & ⋯ & 121.0 & 125.0 & 130.0 & 133.0 & 135.0 & 137.2 & 145 & 150 & 159 & 175\\\\\n\t Ingresos          & 400 & 0 &  68.7 &  28.0 & 1.40 &  48.2 &  0.049 & -1.085 & 21 & ⋯ &  62.0 &  69.0 &  77.0 &  84.6 &  91.0 &  96.2 & 107 & 115 & 119 & 120\\\\\n\t Presup.Publicidad & 400 & 0 &   6.6 &   6.7 & 0.33 &  12.0 &  0.640 & -0.545 &  0 & ⋯ &   2.0 &   5.0 &   8.4 &  11.0 &  12.0 &  13.0 &  16 &  19 &  23 &  29\\\\\n\t Poblacion         & 400 & 0 & 264.8 & 147.4 & 7.37 & 259.5 & -0.051 & -1.202 & 10 & ⋯ & 218.6 & 272.0 & 317.8 & 366.0 & 398.5 & 412.2 & 467 & 493 & 504 & 509\\\\\n\t PrecioVenta       & 400 & 0 & 115.8 &  23.7 & 1.18 &  31.0 & -0.125 &  0.452 & 24 & ⋯ & 110.0 & 117.0 & 122.0 & 128.3 & 131.0 & 134.0 & 146 & 155 & 166 & 191\\\\\n\t EdadM             & 400 & 0 &  53.3 &  16.2 & 0.81 &  26.2 & -0.077 & -1.134 & 25 & ⋯ &  48.6 &  54.5 &  60.0 &  64.0 &  66.0 &  70.0 &  76 &  79 &  80 &  80\\\\\n\t NEducacion        & 400 & 0 &  13.9 &   2.6 & 0.13 &   4.0 &  0.044 & -1.298 & 10 & ⋯ &  13.0 &  14.0 &  15.0 &  16.0 &  16.0 &  17.0 &  17 &  18 &  18 &  18\\\\\n\\end{tabular}\n",
            "text/markdown": "\nA tibble: 8 × 26\n\n| variable &lt;chr&gt; | n &lt;int&gt; | na &lt;int&gt; | mean &lt;dbl&gt; | sd &lt;dbl&gt; | se_mean &lt;dbl&gt; | IQR &lt;dbl&gt; | skewness &lt;dbl&gt; | kurtosis &lt;dbl&gt; | p00 &lt;dbl&gt; | ⋯ ⋯ | p40 &lt;dbl&gt; | p50 &lt;dbl&gt; | p60 &lt;dbl&gt; | p70 &lt;dbl&gt; | p75 &lt;dbl&gt; | p80 &lt;dbl&gt; | p90 &lt;dbl&gt; | p95 &lt;dbl&gt; | p99 &lt;dbl&gt; | p100 &lt;dbl&gt; |\n|---|---|---|---|---|---|---|---|---|---|---|---|---|---|---|---|---|---|---|---|---|\n| Ventas            | 400 | 0 |   7.5 |   2.8 | 0.14 |   3.9 |  0.186 | -0.081 |  0 | ⋯ |   6.6 |   7.5 |   8.1 |   8.8 |   9.3 |   9.8 |  11 |  12 |  14 |  16 |\n| PrecioComp        | 400 | 0 | 125.0 |  15.3 | 0.77 |  20.0 | -0.043 |  0.042 | 77 | ⋯ | 121.0 | 125.0 | 130.0 | 133.0 | 135.0 | 137.2 | 145 | 150 | 159 | 175 |\n| Ingresos          | 400 | 0 |  68.7 |  28.0 | 1.40 |  48.2 |  0.049 | -1.085 | 21 | ⋯ |  62.0 |  69.0 |  77.0 |  84.6 |  91.0 |  96.2 | 107 | 115 | 119 | 120 |\n| Presup.Publicidad | 400 | 0 |   6.6 |   6.7 | 0.33 |  12.0 |  0.640 | -0.545 |  0 | ⋯ |   2.0 |   5.0 |   8.4 |  11.0 |  12.0 |  13.0 |  16 |  19 |  23 |  29 |\n| Poblacion         | 400 | 0 | 264.8 | 147.4 | 7.37 | 259.5 | -0.051 | -1.202 | 10 | ⋯ | 218.6 | 272.0 | 317.8 | 366.0 | 398.5 | 412.2 | 467 | 493 | 504 | 509 |\n| PrecioVenta       | 400 | 0 | 115.8 |  23.7 | 1.18 |  31.0 | -0.125 |  0.452 | 24 | ⋯ | 110.0 | 117.0 | 122.0 | 128.3 | 131.0 | 134.0 | 146 | 155 | 166 | 191 |\n| EdadM             | 400 | 0 |  53.3 |  16.2 | 0.81 |  26.2 | -0.077 | -1.134 | 25 | ⋯ |  48.6 |  54.5 |  60.0 |  64.0 |  66.0 |  70.0 |  76 |  79 |  80 |  80 |\n| NEducacion        | 400 | 0 |  13.9 |   2.6 | 0.13 |   4.0 |  0.044 | -1.298 | 10 | ⋯ |  13.0 |  14.0 |  15.0 |  16.0 |  16.0 |  17.0 |  17 |  18 |  18 |  18 |\n\n",
            "text/html": [
              "<table class=\"dataframe\">\n",
              "<caption>A tibble: 8 × 26</caption>\n",
              "<thead>\n",
              "\t<tr><th scope=col>variable</th><th scope=col>n</th><th scope=col>na</th><th scope=col>mean</th><th scope=col>sd</th><th scope=col>se_mean</th><th scope=col>IQR</th><th scope=col>skewness</th><th scope=col>kurtosis</th><th scope=col>p00</th><th scope=col>⋯</th><th scope=col>p40</th><th scope=col>p50</th><th scope=col>p60</th><th scope=col>p70</th><th scope=col>p75</th><th scope=col>p80</th><th scope=col>p90</th><th scope=col>p95</th><th scope=col>p99</th><th scope=col>p100</th></tr>\n",
              "\t<tr><th scope=col>&lt;chr&gt;</th><th scope=col>&lt;int&gt;</th><th scope=col>&lt;int&gt;</th><th scope=col>&lt;dbl&gt;</th><th scope=col>&lt;dbl&gt;</th><th scope=col>&lt;dbl&gt;</th><th scope=col>&lt;dbl&gt;</th><th scope=col>&lt;dbl&gt;</th><th scope=col>&lt;dbl&gt;</th><th scope=col>&lt;dbl&gt;</th><th scope=col>⋯</th><th scope=col>&lt;dbl&gt;</th><th scope=col>&lt;dbl&gt;</th><th scope=col>&lt;dbl&gt;</th><th scope=col>&lt;dbl&gt;</th><th scope=col>&lt;dbl&gt;</th><th scope=col>&lt;dbl&gt;</th><th scope=col>&lt;dbl&gt;</th><th scope=col>&lt;dbl&gt;</th><th scope=col>&lt;dbl&gt;</th><th scope=col>&lt;dbl&gt;</th></tr>\n",
              "</thead>\n",
              "<tbody>\n",
              "\t<tr><td>Ventas           </td><td>400</td><td>0</td><td>  7.5</td><td>  2.8</td><td>0.14</td><td>  3.9</td><td> 0.186</td><td>-0.081</td><td> 0</td><td>⋯</td><td>  6.6</td><td>  7.5</td><td>  8.1</td><td>  8.8</td><td>  9.3</td><td>  9.8</td><td> 11</td><td> 12</td><td> 14</td><td> 16</td></tr>\n",
              "\t<tr><td>PrecioComp       </td><td>400</td><td>0</td><td>125.0</td><td> 15.3</td><td>0.77</td><td> 20.0</td><td>-0.043</td><td> 0.042</td><td>77</td><td>⋯</td><td>121.0</td><td>125.0</td><td>130.0</td><td>133.0</td><td>135.0</td><td>137.2</td><td>145</td><td>150</td><td>159</td><td>175</td></tr>\n",
              "\t<tr><td>Ingresos         </td><td>400</td><td>0</td><td> 68.7</td><td> 28.0</td><td>1.40</td><td> 48.2</td><td> 0.049</td><td>-1.085</td><td>21</td><td>⋯</td><td> 62.0</td><td> 69.0</td><td> 77.0</td><td> 84.6</td><td> 91.0</td><td> 96.2</td><td>107</td><td>115</td><td>119</td><td>120</td></tr>\n",
              "\t<tr><td>Presup.Publicidad</td><td>400</td><td>0</td><td>  6.6</td><td>  6.7</td><td>0.33</td><td> 12.0</td><td> 0.640</td><td>-0.545</td><td> 0</td><td>⋯</td><td>  2.0</td><td>  5.0</td><td>  8.4</td><td> 11.0</td><td> 12.0</td><td> 13.0</td><td> 16</td><td> 19</td><td> 23</td><td> 29</td></tr>\n",
              "\t<tr><td>Poblacion        </td><td>400</td><td>0</td><td>264.8</td><td>147.4</td><td>7.37</td><td>259.5</td><td>-0.051</td><td>-1.202</td><td>10</td><td>⋯</td><td>218.6</td><td>272.0</td><td>317.8</td><td>366.0</td><td>398.5</td><td>412.2</td><td>467</td><td>493</td><td>504</td><td>509</td></tr>\n",
              "\t<tr><td>PrecioVenta      </td><td>400</td><td>0</td><td>115.8</td><td> 23.7</td><td>1.18</td><td> 31.0</td><td>-0.125</td><td> 0.452</td><td>24</td><td>⋯</td><td>110.0</td><td>117.0</td><td>122.0</td><td>128.3</td><td>131.0</td><td>134.0</td><td>146</td><td>155</td><td>166</td><td>191</td></tr>\n",
              "\t<tr><td>EdadM            </td><td>400</td><td>0</td><td> 53.3</td><td> 16.2</td><td>0.81</td><td> 26.2</td><td>-0.077</td><td>-1.134</td><td>25</td><td>⋯</td><td> 48.6</td><td> 54.5</td><td> 60.0</td><td> 64.0</td><td> 66.0</td><td> 70.0</td><td> 76</td><td> 79</td><td> 80</td><td> 80</td></tr>\n",
              "\t<tr><td>NEducacion       </td><td>400</td><td>0</td><td> 13.9</td><td>  2.6</td><td>0.13</td><td>  4.0</td><td> 0.044</td><td>-1.298</td><td>10</td><td>⋯</td><td> 13.0</td><td> 14.0</td><td> 15.0</td><td> 16.0</td><td> 16.0</td><td> 17.0</td><td> 17</td><td> 18</td><td> 18</td><td> 18</td></tr>\n",
              "</tbody>\n",
              "</table>\n"
            ]
          },
          "metadata": {}
        }
      ]
    },
    {
      "cell_type": "code",
      "metadata": {
        "id": "vib7_ZMKiG3M"
      },
      "source": [
        ""
      ],
      "execution_count": null,
      "outputs": []
    }
  ]
}