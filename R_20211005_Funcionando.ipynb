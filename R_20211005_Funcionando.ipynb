{
  "nbformat": 4,
  "nbformat_minor": 0,
  "metadata": {
    "colab": {
      "name": "R-20211005-Funcionando.ipynb",
      "provenance": [],
      "authorship_tag": "ABX9TyM5YJfQg0vi9/HBGmXUM80H",
      "include_colab_link": true
    },
    "kernelspec": {
      "name": "ir",
      "display_name": "R"
    },
    "language_info": {
      "name": "R"
    }
  },
  "cells": [
    {
      "cell_type": "markdown",
      "metadata": {
        "id": "view-in-github",
        "colab_type": "text"
      },
      "source": [
        "<a href=\"https://colab.research.google.com/github/ivangelion68/r/blob/main/R_20211005_Funcionando.ipynb\" target=\"_parent\"><img src=\"https://colab.research.google.com/assets/colab-badge.svg\" alt=\"Open In Colab\"/></a>"
      ]
    },
    {
      "cell_type": "code",
      "metadata": {
        "id": "7L8pT4m1ZXo4"
      },
      "source": [
        "system('sudo apt-get install -y librsvg2-dev', intern=TRUE)"
      ],
      "execution_count": null,
      "outputs": []
    },
    {
      "cell_type": "code",
      "metadata": {
        "id": "LzIuglaDFp61"
      },
      "source": [
        "install.packages(\"tidyverse\",repos=\"https://cran.r-project.org/\", dependencies = TRUE, configure.args = c(\"--with-proj-lib=$R_HOME/lib\"))"
      ],
      "execution_count": null,
      "outputs": []
    },
    {
      "cell_type": "code",
      "metadata": {
        "id": "lNg6opq1VlmG"
      },
      "source": [
        "install.packages(\"dlookr\",repos=\"https://cran.r-project.org/\", dependencies = TRUE, configure.args = c(\"--with-proj-lib=$R_HOME/lib\"))"
      ],
      "execution_count": null,
      "outputs": []
    },
    {
      "cell_type": "code",
      "metadata": {
        "id": "JjJlus54VpsD"
      },
      "source": [
        "# devtools::install_github(\"choonghyunryu/dlookr\")"
      ],
      "execution_count": null,
      "outputs": []
    },
    {
      "cell_type": "code",
      "metadata": {
        "id": "t_MTXtoiVvJ9"
      },
      "source": [
        "install.packages(\"funModeling\")"
      ],
      "execution_count": null,
      "outputs": []
    },
    {
      "cell_type": "code",
      "metadata": {
        "id": "8bfkCBLLVvME"
      },
      "source": [
        "install.packages(\"rmarkdown\")"
      ],
      "execution_count": null,
      "outputs": []
    },
    {
      "cell_type": "code",
      "metadata": {
        "id": "E3RJWQGAVvOf"
      },
      "source": [
        "install.packages(\"qcc\")"
      ],
      "execution_count": null,
      "outputs": []
    },
    {
      "cell_type": "code",
      "metadata": {
        "id": "Ykw5-JjAebM-"
      },
      "source": [
        "install.packages(\"visdat\")"
      ],
      "execution_count": null,
      "outputs": []
    },
    {
      "cell_type": "code",
      "metadata": {
        "id": "OsT67bHBekLd"
      },
      "source": [
        "install.packages(\"inspectdf\")"
      ],
      "execution_count": null,
      "outputs": []
    },
    {
      "cell_type": "code",
      "metadata": {
        "id": "KobH3Hflez2m"
      },
      "source": [
        "install.packages(\"flextable\")"
      ],
      "execution_count": null,
      "outputs": []
    },
    {
      "cell_type": "code",
      "metadata": {
        "id": "jUcEQsVRV38E"
      },
      "source": [
        "library(qcc)\n",
        "freq.caus <- c(6, 22, 13, 2, 5)\n",
        "names(freq.caus) <- c(\"fluct.pot\", \"contr.inest\", \"error.oper\", \"herramgast\", \"otra\")\n",
        "\n",
        "#png(\"part1.png\",width = 7, height =6,units = \"in\",pointsize = 16,res = 300)\n",
        "pareto.chart(freq.caus, ylab = \"Frecuencia\",col=rainbow(length(freq.caus)))\n",
        "#dev.off()"
      ],
      "execution_count": null,
      "outputs": []
    },
    {
      "cell_type": "code",
      "metadata": {
        "id": "Dn5AK9xYeQWy"
      },
      "source": [
        "## LibrerÃ­as para EDA en R\n",
        "library(tidyverse)\n",
        "library(dlookr)\n",
        "library(visdat)\n",
        "library(inspectdf)\n",
        "library(funModeling)\n",
        "library(flextable)"
      ],
      "execution_count": null,
      "outputs": []
    },
    {
      "cell_type": "code",
      "metadata": {
        "id": "KZupg386eVPa"
      },
      "source": [
        ""
      ],
      "execution_count": null,
      "outputs": []
    }
  ]
}