{
  "nbformat": 4,
  "nbformat_minor": 0,
  "metadata": {
    "colab": {
      "name": "Untitled2.ipynb",
      "provenance": [],
      "authorship_tag": "ABX9TyN1g58KBkMYLRdmuE0I9f6c",
      "include_colab_link": true
    },
    "kernelspec": {
      "name": "ir",
      "display_name": "R"
    },
    "language_info": {
      "name": "R"
    }
  },
  "cells": [
    {
      "cell_type": "markdown",
      "metadata": {
        "id": "view-in-github",
        "colab_type": "text"
      },
      "source": [
        "<a href=\"https://colab.research.google.com/github/ivangelion68/r/blob/main/R-01-20210928.ipynb\" target=\"_parent\"><img src=\"https://colab.research.google.com/assets/colab-badge.svg\" alt=\"Open In Colab\"/></a>"
      ]
    },
    {
      "cell_type": "code",
      "metadata": {
        "colab": {
          "base_uri": "https://localhost:8080/"
        },
        "id": "QNX5k9TQDAmj",
        "outputId": "b9c109cd-54e7-4847-9fce-8be848d0dd2a"
      },
      "source": [
        "install.packages(\"tidyverse\")"
      ],
      "execution_count": 1,
      "outputs": [
        {
          "output_type": "stream",
          "name": "stderr",
          "text": [
            "Installing package into ‘/usr/local/lib/R/site-library’\n",
            "(as ‘lib’ is unspecified)\n",
            "\n"
          ]
        }
      ]
    },
    {
      "cell_type": "code",
      "metadata": {
        "colab": {
          "base_uri": "https://localhost:8080/"
        },
        "id": "D4qu9jNbDCtZ",
        "outputId": "664886ef-643f-47e3-a884-bf09bd0e702d"
      },
      "source": [
        "install.packages(\"dlookr\")"
      ],
      "execution_count": 2,
      "outputs": [
        {
          "output_type": "stream",
          "name": "stderr",
          "text": [
            "Installing package into ‘/usr/local/lib/R/site-library’\n",
            "(as ‘lib’ is unspecified)\n",
            "\n",
            "also installing the dependencies ‘gdtools’, ‘hrbrthemes’, ‘pagedown’, ‘shiny’\n",
            "\n",
            "\n",
            "Warning message in install.packages(\"dlookr\"):\n",
            "“installation of package ‘gdtools’ had non-zero exit status”\n",
            "Warning message in install.packages(\"dlookr\"):\n",
            "“installation of package ‘hrbrthemes’ had non-zero exit status”\n",
            "Warning message in install.packages(\"dlookr\"):\n",
            "“installation of package ‘dlookr’ had non-zero exit status”\n"
          ]
        }
      ]
    },
    {
      "cell_type": "code",
      "metadata": {
        "colab": {
          "base_uri": "https://localhost:8080/"
        },
        "id": "UZS_nmd4DMNW",
        "outputId": "5441a825-1701-4c5a-9529-df7bd4d5e6c2"
      },
      "source": [
        "install.packages(\"funModeling\")"
      ],
      "execution_count": 3,
      "outputs": [
        {
          "output_type": "stream",
          "name": "stderr",
          "text": [
            "Installing package into ‘/usr/local/lib/R/site-library’\n",
            "(as ‘lib’ is unspecified)\n",
            "\n",
            "also installing the dependencies ‘gtools’, ‘caTools’, ‘latticeExtra’, ‘htmlTable’, ‘viridis’, ‘gplots’, ‘plyr’, ‘Hmisc’, ‘ROCR’, ‘pander’, ‘reshape2’, ‘lazyeval’, ‘moments’, ‘entropy’\n",
            "\n",
            "\n",
            "Warning message in install.packages(\"funModeling\"):\n",
            "“installation of package ‘gtools’ had non-zero exit status”\n",
            "Warning message in install.packages(\"funModeling\"):\n",
            "“installation of package ‘gplots’ had non-zero exit status”\n",
            "Warning message in install.packages(\"funModeling\"):\n",
            "“installation of package ‘ROCR’ had non-zero exit status”\n",
            "Warning message in install.packages(\"funModeling\"):\n",
            "“installation of package ‘funModeling’ had non-zero exit status”\n"
          ]
        }
      ]
    },
    {
      "cell_type": "code",
      "metadata": {
        "colab": {
          "base_uri": "https://localhost:8080/"
        },
        "id": "qUrUiZdgDP4i",
        "outputId": "2f03b47e-8107-4873-d563-ba4dc6653457"
      },
      "source": [
        "install.packages(\"rmarkdown\")"
      ],
      "execution_count": 4,
      "outputs": [
        {
          "output_type": "stream",
          "name": "stderr",
          "text": [
            "Installing package into ‘/usr/local/lib/R/site-library’\n",
            "(as ‘lib’ is unspecified)\n",
            "\n"
          ]
        }
      ]
    },
    {
      "cell_type": "code",
      "metadata": {
        "id": "-X6wfEH9DRhW"
      },
      "source": [
        ""
      ],
      "execution_count": 5,
      "outputs": []
    }
  ]
}