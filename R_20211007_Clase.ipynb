{
  "nbformat": 4,
  "nbformat_minor": 0,
  "metadata": {
    "colab": {
      "name": "R-20211007-Clase.ipynb",
      "provenance": [],
      "collapsed_sections": [],
      "authorship_tag": "ABX9TyO2pLnwV5e2uzUFQOLXJQWN",
      "include_colab_link": true
    },
    "kernelspec": {
      "name": "ir",
      "display_name": "R"
    },
    "language_info": {
      "name": "R"
    }
  },
  "cells": [
    {
      "cell_type": "markdown",
      "metadata": {
        "id": "view-in-github",
        "colab_type": "text"
      },
      "source": [
        "<a href=\"https://colab.research.google.com/github/ivangelion68/r/blob/main/R_20211007_Clase.ipynb\" target=\"_parent\"><img src=\"https://colab.research.google.com/assets/colab-badge.svg\" alt=\"Open In Colab\"/></a>"
      ]
    },
    {
      "cell_type": "code",
      "metadata": {
        "id": "7L8pT4m1ZXo4"
      },
      "source": [
        "system('sudo apt-get install -y librsvg2-dev libxslt1-dev libudunits2-dev libmagick++-dev cargo libpoppler-cpp-dev libavfilter-dev libtesseract-dev libleptonica-dev tesseract-ocr-eng', intern=TRUE)"
      ],
      "execution_count": null,
      "outputs": []
    },
    {
      "cell_type": "code",
      "metadata": {
        "id": "LzIuglaDFp61"
      },
      "source": [
        "install.packages(\"tidyverse\",repos=\"https://cran.r-project.org/\", dependencies = TRUE, configure.args = c(\"--with-proj-lib=$R_HOME/lib\"))"
      ],
      "execution_count": null,
      "outputs": []
    },
    {
      "cell_type": "code",
      "metadata": {
        "id": "lNg6opq1VlmG"
      },
      "source": [
        "install.packages(\"dlookr\",repos=\"https://cran.r-project.org/\", dependencies = TRUE, configure.args = c(\"--with-proj-lib=$R_HOME/lib\"))"
      ],
      "execution_count": null,
      "outputs": []
    },
    {
      "cell_type": "code",
      "metadata": {
        "id": "JjJlus54VpsD"
      },
      "source": [
        "# devtools::install_github(\"choonghyunryu/dlookr\")"
      ],
      "execution_count": null,
      "outputs": []
    },
    {
      "cell_type": "code",
      "metadata": {
        "id": "t_MTXtoiVvJ9"
      },
      "source": [
        "install.packages(\"funModeling\")"
      ],
      "execution_count": null,
      "outputs": []
    },
    {
      "cell_type": "code",
      "metadata": {
        "id": "8bfkCBLLVvME"
      },
      "source": [
        "install.packages(\"rmarkdown\")"
      ],
      "execution_count": null,
      "outputs": []
    },
    {
      "cell_type": "code",
      "metadata": {
        "id": "E3RJWQGAVvOf"
      },
      "source": [
        "install.packages(\"qcc\")"
      ],
      "execution_count": null,
      "outputs": []
    },
    {
      "cell_type": "code",
      "metadata": {
        "id": "Ykw5-JjAebM-"
      },
      "source": [
        "install.packages(\"visdat\")"
      ],
      "execution_count": null,
      "outputs": []
    },
    {
      "cell_type": "code",
      "metadata": {
        "id": "OsT67bHBekLd"
      },
      "source": [
        "install.packages(\"inspectdf\")"
      ],
      "execution_count": null,
      "outputs": []
    },
    {
      "cell_type": "code",
      "metadata": {
        "id": "KobH3Hflez2m"
      },
      "source": [
        "install.packages(\"flextable\")"
      ],
      "execution_count": null,
      "outputs": []
    },
    {
      "cell_type": "code",
      "metadata": {
        "id": "7OtVG6SHxuVp"
      },
      "source": [
        "instprep<-c(\"tidyverse\",\"dlookr\",\"visdat\",\"inspectdf\",\"qqplotr\",\"funModeling\",\"flextable\",\"outliers\", \"plotly\",\"VIM\",\"mice\",\"samplingbook\")"
      ],
      "execution_count": null,
      "outputs": []
    },
    {
      "cell_type": "code",
      "metadata": {
        "id": "3QsDk3VSxxHb"
      },
      "source": [
        "install.packages(instprep,dependencies = T)"
      ],
      "execution_count": null,
      "outputs": []
    }
  ]
}