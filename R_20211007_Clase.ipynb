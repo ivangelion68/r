{
  "nbformat": 4,
  "nbformat_minor": 0,
  "metadata": {
    "colab": {
      "name": "R-20211007-Clase.ipynb",
      "provenance": [],
      "collapsed_sections": [],
      "authorship_tag": "ABX9TyMqFmPBDU3vwdqvx3pdK+PU",
      "include_colab_link": true
    },
    "kernelspec": {
      "name": "ir",
      "display_name": "R"
    },
    "language_info": {
      "name": "R"
    }
  },
  "cells": [
    {
      "cell_type": "markdown",
      "metadata": {
        "id": "view-in-github",
        "colab_type": "text"
      },
      "source": [
        "<a href=\"https://colab.research.google.com/github/ivangelion68/r/blob/main/R_20211007_Clase.ipynb\" target=\"_parent\"><img src=\"https://colab.research.google.com/assets/colab-badge.svg\" alt=\"Open In Colab\"/></a>"
      ]
    },
    {
      "cell_type": "code",
      "metadata": {
        "id": "7L8pT4m1ZXo4",
        "colab": {
          "base_uri": "https://localhost:8080/",
          "height": 260
        },
        "outputId": "524c6799-2566-446d-b321-c8811ce37104"
      },
      "source": [
        "system('sudo apt-get install -y librsvg2-dev libxslt1-dev libudunits2-dev libmagick++-dev cargo libpoppler-cpp-dev libavfilter-dev libtesseract-dev libleptonica-dev tesseract-ocr-eng', intern=TRUE)"
      ],
      "execution_count": 40,
      "outputs": [
        {
          "output_type": "display_data",
          "data": {
            "text/plain": [
              " [1] \"Reading package lists...\"                                                                                                                                                                                                                                                                                                                                                                                                                                                                                                                                                                                                                                      \n",
              " [2] \"Building dependency tree...\"                                                                                                                                                                                                                                                                                                                                                                                                                                                                                                                                                                                                                                   \n",
              " [3] \"Reading state information...\"                                                                                                                                                                                                                                                                                                                                                                                                                                                                                                                                                                                                                                  \n",
              " [4] \"libleptonica-dev is already the newest version (1.75.3-3).\"                                                                                                                                                                                                                                                                                                                                                                                                                                                                                                                                                                                                    \n",
              " [5] \"libtesseract-dev is already the newest version (4.00~git2288-10f4998a-2).\"                                                                                                                                                                                                                                                                                                                                                                                                                                                                                                                                                                                     \n",
              " [6] \"libudunits2-dev is already the newest version (2.2.26-1).\"                                                                                                                                                                                                                                                                                                                                                                                                                                                                                                                                                                                                     \n",
              " [7] \"libmagick++-dev is already the newest version (8:6.9.7.4+dfsg-16ubuntu6.11).\"                                                                                                                                                                                                                                                                                                                                                                                                                                                                                                                                                                                  \n",
              " [8] \"libpoppler-cpp-dev is already the newest version (0.62.0-2ubuntu2.12).\"                                                                                                                                                                                                                                                                                                                                                                                                                                                                                                                                                                                        \n",
              " [9] \"librsvg2-dev is already the newest version (2.40.20-2ubuntu0.2).\"                                                                                                                                                                                                                                                                                                                                                                                                                                                                                                                                                                                              \n",
              "[10] \"libxslt1-dev is already the newest version (1.1.29-5ubuntu0.2).\"                                                                                                                                                                                                                                                                                                                                                                                                                                                                                                                                                                                               \n",
              "[11] \"cargo is already the newest version (0.52.0-0ubuntu1~18.04.1).\"                                                                                                                                                                                                                                                                                                                                                                                                                                                                                                                                                                                                \n",
              "[12] \"libavfilter-dev is already the newest version (7:3.4.8-0ubuntu0.2).\"                                                                                                                                                                                                                                                                                                                                                                                                                                                                                                                                                                                           \n",
              "[13] \"The following additional packages will be installed:\"                                                                                                                                                                                                                                                                                                                                                                                                                                                                                                                                                                                                          \n",
              "[14] \"  tesseract-ocr tesseract-ocr-osd\"                                                                                                                                                                                                                                                                                                                                                                                                                                                                                                                                                                                                                             \n",
              "[15] \"The following NEW packages will be installed:\"                                                                                                                                                                                                                                                                                                                                                                                                                                                                                                                                                                                                                 \n",
              "[16] \"  tesseract-ocr tesseract-ocr-eng tesseract-ocr-osd\"                                                                                                                                                                                                                                                                                                                                                                                                                                                                                                                                                                                                           \n",
              "[17] \"0 upgraded, 3 newly installed, 0 to remove and 37 not upgraded.\"                                                                                                                                                                                                                                                                                                                                                                                                                                                                                                                                                                                               \n",
              "[18] \"Need to get 4,795 kB of archives.\"                                                                                                                                                                                                                                                                                                                                                                                                                                                                                                                                                                                                                             \n",
              "[19] \"After this operation, 15.8 MB of additional disk space will be used.\"                                                                                                                                                                                                                                                                                                                                                                                                                                                                                                                                                                                          \n",
              "[20] \"Get:1 http://archive.ubuntu.com/ubuntu bionic/universe amd64 tesseract-ocr-eng all 4.00~git24-0e00fe6-1.2 [1,588 kB]\"                                                                                                                                                                                                                                                                                                                                                                                                                                                                                                                                          \n",
              "[21] \"Get:2 http://archive.ubuntu.com/ubuntu bionic/universe amd64 tesseract-ocr-osd all 4.00~git24-0e00fe6-1.2 [2,989 kB]\"                                                                                                                                                                                                                                                                                                                                                                                                                                                                                                                                          \n",
              "[22] \"Get:3 http://archive.ubuntu.com/ubuntu bionic/universe amd64 tesseract-ocr amd64 4.00~git2288-10f4998a-2 [218 kB]\"                                                                                                                                                                                                                                                                                                                                                                                                                                                                                                                                             \n",
              "[23] \"Fetched 4,795 kB in 2s (3,047 kB/s)\"                                                                                                                                                                                                                                                                                                                                                                                                                                                                                                                                                                                                                           \n",
              "[24] \"Selecting previously unselected package tesseract-ocr-eng.\\r\"                                                                                                                                                                                                                                                                                                                                                                                                                                                                                                                                                                                                  \n",
              "[25] \"(Reading database ... \\r(Reading database ... 5%\\r(Reading database ... 10%\\r(Reading database ... 15%\\r(Reading database ... 20%\\r(Reading database ... 25%\\r(Reading database ... 30%\\r(Reading database ... 35%\\r(Reading database ... 40%\\r(Reading database ... 45%\\r(Reading database ... 50%\\r(Reading database ... 55%\\r(Reading database ... 60%\\r(Reading database ... 65%\\r(Reading database ... 70%\\r(Reading database ... 75%\\r(Reading database ... 80%\\r(Reading database ... 85%\\r(Reading database ... 90%\\r(Reading database ... 95%\\r(Reading database ... 100%\\r(Reading database ... 157884 files and directories currently installed.)\\r\"\n",
              "[26] \"Preparing to unpack .../tesseract-ocr-eng_4.00~git24-0e00fe6-1.2_all.deb ...\\r\"                                                                                                                                                                                                                                                                                                                                                                                                                                                                                                                                                                                \n",
              "[27] \"Unpacking tesseract-ocr-eng (4.00~git24-0e00fe6-1.2) ...\\r\"                                                                                                                                                                                                                                                                                                                                                                                                                                                                                                                                                                                                    \n",
              "[28] \"Selecting previously unselected package tesseract-ocr-osd.\\r\"                                                                                                                                                                                                                                                                                                                                                                                                                                                                                                                                                                                                  \n",
              "[29] \"Preparing to unpack .../tesseract-ocr-osd_4.00~git24-0e00fe6-1.2_all.deb ...\\r\"                                                                                                                                                                                                                                                                                                                                                                                                                                                                                                                                                                                \n",
              "[30] \"Unpacking tesseract-ocr-osd (4.00~git24-0e00fe6-1.2) ...\\r\"                                                                                                                                                                                                                                                                                                                                                                                                                                                                                                                                                                                                    \n",
              "[31] \"Selecting previously unselected package tesseract-ocr.\\r\"                                                                                                                                                                                                                                                                                                                                                                                                                                                                                                                                                                                                      \n",
              "[32] \"Preparing to unpack .../tesseract-ocr_4.00~git2288-10f4998a-2_amd64.deb ...\\r\"                                                                                                                                                                                                                                                                                                                                                                                                                                                                                                                                                                                 \n",
              "[33] \"Unpacking tesseract-ocr (4.00~git2288-10f4998a-2) ...\\r\"                                                                                                                                                                                                                                                                                                                                                                                                                                                                                                                                                                                                       \n",
              "[34] \"Setting up tesseract-ocr-osd (4.00~git24-0e00fe6-1.2) ...\\r\"                                                                                                                                                                                                                                                                                                                                                                                                                                                                                                                                                                                                   \n",
              "[35] \"Setting up tesseract-ocr-eng (4.00~git24-0e00fe6-1.2) ...\\r\"                                                                                                                                                                                                                                                                                                                                                                                                                                                                                                                                                                                                   \n",
              "[36] \"Setting up tesseract-ocr (4.00~git2288-10f4998a-2) ...\\r\"                                                                                                                                                                                                                                                                                                                                                                                                                                                                                                                                                                                                      \n",
              "[37] \"Processing triggers for man-db (2.8.3-2ubuntu0.1) ...\\r\"                                                                                                                                                                                                                                                                                                                                                                                                                                                                                                                                                                                                       "
            ],
            "text/latex": "\\begin{enumerate*}\n\\item 'Reading package lists...'\n\\item 'Building dependency tree...'\n\\item 'Reading state information...'\n\\item 'libleptonica-dev is already the newest version (1.75.3-3).'\n\\item 'libtesseract-dev is already the newest version (4.00\\textasciitilde{}git2288-10f4998a-2).'\n\\item 'libudunits2-dev is already the newest version (2.2.26-1).'\n\\item 'libmagick++-dev is already the newest version (8:6.9.7.4+dfsg-16ubuntu6.11).'\n\\item 'libpoppler-cpp-dev is already the newest version (0.62.0-2ubuntu2.12).'\n\\item 'librsvg2-dev is already the newest version (2.40.20-2ubuntu0.2).'\n\\item 'libxslt1-dev is already the newest version (1.1.29-5ubuntu0.2).'\n\\item 'cargo is already the newest version (0.52.0-0ubuntu1\\textasciitilde{}18.04.1).'\n\\item 'libavfilter-dev is already the newest version (7:3.4.8-0ubuntu0.2).'\n\\item 'The following additional packages will be installed:'\n\\item '  tesseract-ocr tesseract-ocr-osd'\n\\item 'The following NEW packages will be installed:'\n\\item '  tesseract-ocr tesseract-ocr-eng tesseract-ocr-osd'\n\\item '0 upgraded, 3 newly installed, 0 to remove and 37 not upgraded.'\n\\item 'Need to get 4,795 kB of archives.'\n\\item 'After this operation, 15.8 MB of additional disk space will be used.'\n\\item 'Get:1 http://archive.ubuntu.com/ubuntu bionic/universe amd64 tesseract-ocr-eng all 4.00\\textasciitilde{}git24-0e00fe6-1.2 {[}1,588 kB{]}'\n\\item 'Get:2 http://archive.ubuntu.com/ubuntu bionic/universe amd64 tesseract-ocr-osd all 4.00\\textasciitilde{}git24-0e00fe6-1.2 {[}2,989 kB{]}'\n\\item 'Get:3 http://archive.ubuntu.com/ubuntu bionic/universe amd64 tesseract-ocr amd64 4.00\\textasciitilde{}git2288-10f4998a-2 {[}218 kB{]}'\n\\item 'Fetched 4,795 kB in 2s (3,047 kB/s)'\n\\item 'Selecting previously unselected package tesseract-ocr-eng.\\textbackslash{}r'\n\\item '(Reading database ... \\textbackslash{}r(Reading database ... 5\\%\\textbackslash{}r(Reading database ... 10\\%\\textbackslash{}r(Reading database ... 15\\%\\textbackslash{}r(Reading database ... 20\\%\\textbackslash{}r(Reading database ... 25\\%\\textbackslash{}r(Reading database ... 30\\%\\textbackslash{}r(Reading database ... 35\\%\\textbackslash{}r(Reading database ... 40\\%\\textbackslash{}r(Reading database ... 45\\%\\textbackslash{}r(Reading database ... 50\\%\\textbackslash{}r(Reading database ... 55\\%\\textbackslash{}r(Reading database ... 60\\%\\textbackslash{}r(Reading database ... 65\\%\\textbackslash{}r(Reading database ... 70\\%\\textbackslash{}r(Reading database ... 75\\%\\textbackslash{}r(Reading database ... 80\\%\\textbackslash{}r(Reading database ... 85\\%\\textbackslash{}r(Reading database ... 90\\%\\textbackslash{}r(Reading database ... 95\\%\\textbackslash{}r(Reading database ... 100\\%\\textbackslash{}r(Reading database ... 157884 files and directories currently installed.)\\textbackslash{}r'\n\\item 'Preparing to unpack .../tesseract-ocr-eng\\_4.00\\textasciitilde{}git24-0e00fe6-1.2\\_all.deb ...\\textbackslash{}r'\n\\item 'Unpacking tesseract-ocr-eng (4.00\\textasciitilde{}git24-0e00fe6-1.2) ...\\textbackslash{}r'\n\\item 'Selecting previously unselected package tesseract-ocr-osd.\\textbackslash{}r'\n\\item 'Preparing to unpack .../tesseract-ocr-osd\\_4.00\\textasciitilde{}git24-0e00fe6-1.2\\_all.deb ...\\textbackslash{}r'\n\\item 'Unpacking tesseract-ocr-osd (4.00\\textasciitilde{}git24-0e00fe6-1.2) ...\\textbackslash{}r'\n\\item 'Selecting previously unselected package tesseract-ocr.\\textbackslash{}r'\n\\item 'Preparing to unpack .../tesseract-ocr\\_4.00\\textasciitilde{}git2288-10f4998a-2\\_amd64.deb ...\\textbackslash{}r'\n\\item 'Unpacking tesseract-ocr (4.00\\textasciitilde{}git2288-10f4998a-2) ...\\textbackslash{}r'\n\\item 'Setting up tesseract-ocr-osd (4.00\\textasciitilde{}git24-0e00fe6-1.2) ...\\textbackslash{}r'\n\\item 'Setting up tesseract-ocr-eng (4.00\\textasciitilde{}git24-0e00fe6-1.2) ...\\textbackslash{}r'\n\\item 'Setting up tesseract-ocr (4.00\\textasciitilde{}git2288-10f4998a-2) ...\\textbackslash{}r'\n\\item 'Processing triggers for man-db (2.8.3-2ubuntu0.1) ...\\textbackslash{}r'\n\\end{enumerate*}\n",
            "text/markdown": "1. 'Reading package lists...'\n2. 'Building dependency tree...'\n3. 'Reading state information...'\n4. 'libleptonica-dev is already the newest version (1.75.3-3).'\n5. 'libtesseract-dev is already the newest version (4.00~git2288-10f4998a-2).'\n6. 'libudunits2-dev is already the newest version (2.2.26-1).'\n7. 'libmagick++-dev is already the newest version (8:6.9.7.4+dfsg-16ubuntu6.11).'\n8. 'libpoppler-cpp-dev is already the newest version (0.62.0-2ubuntu2.12).'\n9. 'librsvg2-dev is already the newest version (2.40.20-2ubuntu0.2).'\n10. 'libxslt1-dev is already the newest version (1.1.29-5ubuntu0.2).'\n11. 'cargo is already the newest version (0.52.0-0ubuntu1~18.04.1).'\n12. 'libavfilter-dev is already the newest version (7:3.4.8-0ubuntu0.2).'\n13. 'The following additional packages will be installed:'\n14. <span style=white-space:pre-wrap>'  tesseract-ocr tesseract-ocr-osd'</span>\n15. 'The following NEW packages will be installed:'\n16. <span style=white-space:pre-wrap>'  tesseract-ocr tesseract-ocr-eng tesseract-ocr-osd'</span>\n17. '0 upgraded, 3 newly installed, 0 to remove and 37 not upgraded.'\n18. 'Need to get 4,795 kB of archives.'\n19. 'After this operation, 15.8 MB of additional disk space will be used.'\n20. 'Get:1 http://archive.ubuntu.com/ubuntu bionic/universe amd64 tesseract-ocr-eng all 4.00~git24-0e00fe6-1.2 [1,588 kB]'\n21. 'Get:2 http://archive.ubuntu.com/ubuntu bionic/universe amd64 tesseract-ocr-osd all 4.00~git24-0e00fe6-1.2 [2,989 kB]'\n22. 'Get:3 http://archive.ubuntu.com/ubuntu bionic/universe amd64 tesseract-ocr amd64 4.00~git2288-10f4998a-2 [218 kB]'\n23. 'Fetched 4,795 kB in 2s (3,047 kB/s)'\n24. 'Selecting previously unselected package tesseract-ocr-eng.\\r'\n25. '(Reading database ... \\r(Reading database ... 5%\\r(Reading database ... 10%\\r(Reading database ... 15%\\r(Reading database ... 20%\\r(Reading database ... 25%\\r(Reading database ... 30%\\r(Reading database ... 35%\\r(Reading database ... 40%\\r(Reading database ... 45%\\r(Reading database ... 50%\\r(Reading database ... 55%\\r(Reading database ... 60%\\r(Reading database ... 65%\\r(Reading database ... 70%\\r(Reading database ... 75%\\r(Reading database ... 80%\\r(Reading database ... 85%\\r(Reading database ... 90%\\r(Reading database ... 95%\\r(Reading database ... 100%\\r(Reading database ... 157884 files and directories currently installed.)\\r'\n26. 'Preparing to unpack .../tesseract-ocr-eng_4.00~git24-0e00fe6-1.2_all.deb ...\\r'\n27. 'Unpacking tesseract-ocr-eng (4.00~git24-0e00fe6-1.2) ...\\r'\n28. 'Selecting previously unselected package tesseract-ocr-osd.\\r'\n29. 'Preparing to unpack .../tesseract-ocr-osd_4.00~git24-0e00fe6-1.2_all.deb ...\\r'\n30. 'Unpacking tesseract-ocr-osd (4.00~git24-0e00fe6-1.2) ...\\r'\n31. 'Selecting previously unselected package tesseract-ocr.\\r'\n32. 'Preparing to unpack .../tesseract-ocr_4.00~git2288-10f4998a-2_amd64.deb ...\\r'\n33. 'Unpacking tesseract-ocr (4.00~git2288-10f4998a-2) ...\\r'\n34. 'Setting up tesseract-ocr-osd (4.00~git24-0e00fe6-1.2) ...\\r'\n35. 'Setting up tesseract-ocr-eng (4.00~git24-0e00fe6-1.2) ...\\r'\n36. 'Setting up tesseract-ocr (4.00~git2288-10f4998a-2) ...\\r'\n37. 'Processing triggers for man-db (2.8.3-2ubuntu0.1) ...\\r'\n\n\n",
            "text/html": [
              "<style>\n",
              ".list-inline {list-style: none; margin:0; padding: 0}\n",
              ".list-inline>li {display: inline-block}\n",
              ".list-inline>li:not(:last-child)::after {content: \"\\00b7\"; padding: 0 .5ex}\n",
              "</style>\n",
              "<ol class=list-inline><li>'Reading package lists...'</li><li>'Building dependency tree...'</li><li>'Reading state information...'</li><li>'libleptonica-dev is already the newest version (1.75.3-3).'</li><li>'libtesseract-dev is already the newest version (4.00~git2288-10f4998a-2).'</li><li>'libudunits2-dev is already the newest version (2.2.26-1).'</li><li>'libmagick++-dev is already the newest version (8:6.9.7.4+dfsg-16ubuntu6.11).'</li><li>'libpoppler-cpp-dev is already the newest version (0.62.0-2ubuntu2.12).'</li><li>'librsvg2-dev is already the newest version (2.40.20-2ubuntu0.2).'</li><li>'libxslt1-dev is already the newest version (1.1.29-5ubuntu0.2).'</li><li>'cargo is already the newest version (0.52.0-0ubuntu1~18.04.1).'</li><li>'libavfilter-dev is already the newest version (7:3.4.8-0ubuntu0.2).'</li><li>'The following additional packages will be installed:'</li><li><span style=white-space:pre-wrap>'  tesseract-ocr tesseract-ocr-osd'</span></li><li>'The following NEW packages will be installed:'</li><li><span style=white-space:pre-wrap>'  tesseract-ocr tesseract-ocr-eng tesseract-ocr-osd'</span></li><li>'0 upgraded, 3 newly installed, 0 to remove and 37 not upgraded.'</li><li>'Need to get 4,795 kB of archives.'</li><li>'After this operation, 15.8 MB of additional disk space will be used.'</li><li>'Get:1 http://archive.ubuntu.com/ubuntu bionic/universe amd64 tesseract-ocr-eng all 4.00~git24-0e00fe6-1.2 [1,588 kB]'</li><li>'Get:2 http://archive.ubuntu.com/ubuntu bionic/universe amd64 tesseract-ocr-osd all 4.00~git24-0e00fe6-1.2 [2,989 kB]'</li><li>'Get:3 http://archive.ubuntu.com/ubuntu bionic/universe amd64 tesseract-ocr amd64 4.00~git2288-10f4998a-2 [218 kB]'</li><li>'Fetched 4,795 kB in 2s (3,047 kB/s)'</li><li>'Selecting previously unselected package tesseract-ocr-eng.\\r'</li><li>'(Reading database ... \\r(Reading database ... 5%\\r(Reading database ... 10%\\r(Reading database ... 15%\\r(Reading database ... 20%\\r(Reading database ... 25%\\r(Reading database ... 30%\\r(Reading database ... 35%\\r(Reading database ... 40%\\r(Reading database ... 45%\\r(Reading database ... 50%\\r(Reading database ... 55%\\r(Reading database ... 60%\\r(Reading database ... 65%\\r(Reading database ... 70%\\r(Reading database ... 75%\\r(Reading database ... 80%\\r(Reading database ... 85%\\r(Reading database ... 90%\\r(Reading database ... 95%\\r(Reading database ... 100%\\r(Reading database ... 157884 files and directories currently installed.)\\r'</li><li>'Preparing to unpack .../tesseract-ocr-eng_4.00~git24-0e00fe6-1.2_all.deb ...\\r'</li><li>'Unpacking tesseract-ocr-eng (4.00~git24-0e00fe6-1.2) ...\\r'</li><li>'Selecting previously unselected package tesseract-ocr-osd.\\r'</li><li>'Preparing to unpack .../tesseract-ocr-osd_4.00~git24-0e00fe6-1.2_all.deb ...\\r'</li><li>'Unpacking tesseract-ocr-osd (4.00~git24-0e00fe6-1.2) ...\\r'</li><li>'Selecting previously unselected package tesseract-ocr.\\r'</li><li>'Preparing to unpack .../tesseract-ocr_4.00~git2288-10f4998a-2_amd64.deb ...\\r'</li><li>'Unpacking tesseract-ocr (4.00~git2288-10f4998a-2) ...\\r'</li><li>'Setting up tesseract-ocr-osd (4.00~git24-0e00fe6-1.2) ...\\r'</li><li>'Setting up tesseract-ocr-eng (4.00~git24-0e00fe6-1.2) ...\\r'</li><li>'Setting up tesseract-ocr (4.00~git2288-10f4998a-2) ...\\r'</li><li>'Processing triggers for man-db (2.8.3-2ubuntu0.1) ...\\r'</li></ol>\n"
            ]
          },
          "metadata": {}
        }
      ]
    },
    {
      "cell_type": "code",
      "metadata": {
        "id": "LzIuglaDFp61",
        "colab": {
          "base_uri": "https://localhost:8080/"
        },
        "outputId": "9c4c3a83-f416-4135-e4e5-7606cb612c77"
      },
      "source": [
        "install.packages(\"tidyverse\",repos=\"https://cran.r-project.org/\", dependencies = TRUE, configure.args = c(\"--with-proj-lib=$R_HOME/lib\"))"
      ],
      "execution_count": 12,
      "outputs": [
        {
          "output_type": "stream",
          "name": "stderr",
          "text": [
            "Installing package into ‘/usr/local/lib/R/site-library’\n",
            "(as ‘lib’ is unspecified)\n",
            "\n"
          ]
        }
      ]
    },
    {
      "cell_type": "code",
      "metadata": {
        "id": "lNg6opq1VlmG",
        "colab": {
          "base_uri": "https://localhost:8080/"
        },
        "outputId": "8b7a4230-f11a-42da-a268-9d31c52c8d6a"
      },
      "source": [
        "install.packages(\"dlookr\",repos=\"https://cran.r-project.org/\", dependencies = TRUE, configure.args = c(\"--with-proj-lib=$R_HOME/lib\"))"
      ],
      "execution_count": 13,
      "outputs": [
        {
          "output_type": "stream",
          "name": "stderr",
          "text": [
            "Installing package into ‘/usr/local/lib/R/site-library’\n",
            "(as ‘lib’ is unspecified)\n",
            "\n"
          ]
        }
      ]
    },
    {
      "cell_type": "code",
      "metadata": {
        "id": "JjJlus54VpsD"
      },
      "source": [
        "# devtools::install_github(\"choonghyunryu/dlookr\")"
      ],
      "execution_count": 14,
      "outputs": []
    },
    {
      "cell_type": "code",
      "metadata": {
        "id": "t_MTXtoiVvJ9",
        "colab": {
          "base_uri": "https://localhost:8080/"
        },
        "outputId": "24c13659-965b-4999-dc7c-bce06aa94add"
      },
      "source": [
        "install.packages(\"funModeling\")"
      ],
      "execution_count": 15,
      "outputs": [
        {
          "output_type": "stream",
          "name": "stderr",
          "text": [
            "Installing package into ‘/usr/local/lib/R/site-library’\n",
            "(as ‘lib’ is unspecified)\n",
            "\n"
          ]
        }
      ]
    },
    {
      "cell_type": "code",
      "metadata": {
        "id": "8bfkCBLLVvME",
        "colab": {
          "base_uri": "https://localhost:8080/"
        },
        "outputId": "71385278-16fd-417b-bf8b-5bde236f232c"
      },
      "source": [
        "install.packages(\"rmarkdown\")"
      ],
      "execution_count": 16,
      "outputs": [
        {
          "output_type": "stream",
          "name": "stderr",
          "text": [
            "Installing package into ‘/usr/local/lib/R/site-library’\n",
            "(as ‘lib’ is unspecified)\n",
            "\n"
          ]
        }
      ]
    },
    {
      "cell_type": "code",
      "metadata": {
        "id": "E3RJWQGAVvOf",
        "colab": {
          "base_uri": "https://localhost:8080/"
        },
        "outputId": "ea8fefb8-77d9-4738-99f1-5a6e9fee4fc1"
      },
      "source": [
        "install.packages(\"qcc\")"
      ],
      "execution_count": 17,
      "outputs": [
        {
          "output_type": "stream",
          "name": "stderr",
          "text": [
            "Installing package into ‘/usr/local/lib/R/site-library’\n",
            "(as ‘lib’ is unspecified)\n",
            "\n"
          ]
        }
      ]
    },
    {
      "cell_type": "code",
      "metadata": {
        "id": "Ykw5-JjAebM-",
        "colab": {
          "base_uri": "https://localhost:8080/"
        },
        "outputId": "b1317a84-c921-414a-edd9-9632ec2984bc"
      },
      "source": [
        "install.packages(\"visdat\")"
      ],
      "execution_count": 18,
      "outputs": [
        {
          "output_type": "stream",
          "name": "stderr",
          "text": [
            "Installing package into ‘/usr/local/lib/R/site-library’\n",
            "(as ‘lib’ is unspecified)\n",
            "\n"
          ]
        }
      ]
    },
    {
      "cell_type": "code",
      "metadata": {
        "id": "OsT67bHBekLd",
        "colab": {
          "base_uri": "https://localhost:8080/"
        },
        "outputId": "5cffee24-08ef-4308-e5a7-1b9d0577f771"
      },
      "source": [
        "install.packages(\"inspectdf\")"
      ],
      "execution_count": 19,
      "outputs": [
        {
          "output_type": "stream",
          "name": "stderr",
          "text": [
            "Installing package into ‘/usr/local/lib/R/site-library’\n",
            "(as ‘lib’ is unspecified)\n",
            "\n"
          ]
        }
      ]
    },
    {
      "cell_type": "code",
      "metadata": {
        "id": "KobH3Hflez2m",
        "colab": {
          "base_uri": "https://localhost:8080/"
        },
        "outputId": "a84c9115-5a7d-4d2c-d34b-50a735693766"
      },
      "source": [
        "install.packages(\"flextable\")"
      ],
      "execution_count": 20,
      "outputs": [
        {
          "output_type": "stream",
          "name": "stderr",
          "text": [
            "Installing package into ‘/usr/local/lib/R/site-library’\n",
            "(as ‘lib’ is unspecified)\n",
            "\n"
          ]
        }
      ]
    },
    {
      "cell_type": "code",
      "metadata": {
        "id": "7OtVG6SHxuVp"
      },
      "source": [
        "instprep<-c(\"tidyverse\",\"dlookr\",\"visdat\",\"inspectdf\",\"qqplotr\",\"funModeling\",\"flextable\",\"outliers\", \"plotly\",\"VIM\",\"mice\",\"samplingbook\")"
      ],
      "execution_count": 21,
      "outputs": []
    },
    {
      "cell_type": "code",
      "metadata": {
        "colab": {
          "base_uri": "https://localhost:8080/"
        },
        "id": "3QsDk3VSxxHb",
        "outputId": "07995af0-12bb-4513-dc34-088827cbdd54"
      },
      "source": [
        "install.packages(instprep,dependencies = T)"
      ],
      "execution_count": 22,
      "outputs": [
        {
          "output_type": "stream",
          "name": "stderr",
          "text": [
            "Installing packages into ‘/usr/local/lib/R/site-library’\n",
            "(as ‘lib’ is unspecified)\n",
            "\n",
            "also installing the dependencies ‘matrixStats’, ‘ucminf’, ‘showimage’, ‘wk’, ‘SparseM’, ‘MatrixModels’, ‘conquer’, ‘openxlsx’, ‘ordinal’, ‘hunspell’, ‘DEoptimR’, ‘xslt’, ‘locatexec’, ‘reshape’, ‘debugme’, ‘parsedate’, ‘pingr’, ‘webdriver’, ‘s2’, ‘units’, ‘carData’, ‘abind’, ‘pbkrtest’, ‘quantreg’, ‘rio’, ‘RcppEigen’, ‘coda’, ‘minqa’, ‘nloptr’, ‘mathjaxr’, ‘pbapply’, ‘jomo’, ‘mitools’, ‘lpSolve’, ‘numDeriv’, ‘vdiffr’, ‘spelling’, ‘robustbase’, ‘shinyBS’, ‘magick’, ‘equatags’, ‘crosstalk’, ‘maps’, ‘hexbin’, ‘ggthemes’, ‘GGally’, ‘shinytest’, ‘Cairo’, ‘listviewer’, ‘dendextend’, ‘sf’, ‘maptools’, ‘rgeos’, ‘plotlyGeoAssets’, ‘palmerpenguins’, ‘car’, ‘sp’, ‘vcd’, ‘laeken’, ‘ranger’, ‘broom.mixed’, ‘lme4’, ‘metafor’, ‘mitml’, ‘miceadds’, ‘pan’, ‘pps’, ‘sampling’, ‘survey’\n",
            "\n",
            "\n",
            "Warning message in install.packages(instprep, dependencies = T):\n",
            "“installation of package ‘xslt’ had non-zero exit status”\n",
            "Warning message in install.packages(instprep, dependencies = T):\n",
            "“installation of package ‘units’ had non-zero exit status”\n",
            "Warning message in install.packages(instprep, dependencies = T):\n",
            "“installation of package ‘magick’ had non-zero exit status”\n",
            "Warning message in install.packages(instprep, dependencies = T):\n",
            "“installation of package ‘equatags’ had non-zero exit status”\n",
            "Warning message in install.packages(instprep, dependencies = T):\n",
            "“installation of package ‘sf’ had non-zero exit status”\n"
          ]
        }
      ]
    },
    {
      "cell_type": "code",
      "metadata": {
        "colab": {
          "base_uri": "https://localhost:8080/"
        },
        "id": "QIlspc3r22FK",
        "outputId": "9b431c2d-3cb7-4d0f-8ff1-e0bf3b3d6d0a"
      },
      "source": [
        "install.packages(\"xslt\",dependencies = T)"
      ],
      "execution_count": 26,
      "outputs": [
        {
          "output_type": "stream",
          "name": "stderr",
          "text": [
            "Installing package into ‘/usr/local/lib/R/site-library’\n",
            "(as ‘lib’ is unspecified)\n",
            "\n"
          ]
        }
      ]
    },
    {
      "cell_type": "code",
      "metadata": {
        "colab": {
          "base_uri": "https://localhost:8080/"
        },
        "id": "sqwr1Q-X3yTL",
        "outputId": "4732b04f-204a-4eb2-e08b-e65c109c6d1c"
      },
      "source": [
        "install.packages(\"units\",dependencies = T)"
      ],
      "execution_count": 30,
      "outputs": [
        {
          "output_type": "stream",
          "name": "stderr",
          "text": [
            "Installing package into ‘/usr/local/lib/R/site-library’\n",
            "(as ‘lib’ is unspecified)\n",
            "\n",
            "also installing the dependency ‘udunits2’\n",
            "\n",
            "\n"
          ]
        }
      ]
    },
    {
      "cell_type": "code",
      "metadata": {
        "colab": {
          "base_uri": "https://localhost:8080/"
        },
        "id": "aL8tyaSb5RvH",
        "outputId": "5943bb7b-961a-4fa5-9119-a84904a407a3"
      },
      "source": [
        "install.packages(\"magick\",dependencies = T)"
      ],
      "execution_count": 41,
      "outputs": [
        {
          "output_type": "stream",
          "name": "stderr",
          "text": [
            "Installing package into ‘/usr/local/lib/R/site-library’\n",
            "(as ‘lib’ is unspecified)\n",
            "\n",
            "also installing the dependency ‘tesseract’\n",
            "\n",
            "\n"
          ]
        }
      ]
    },
    {
      "cell_type": "code",
      "metadata": {
        "colab": {
          "base_uri": "https://localhost:8080/"
        },
        "id": "zaEIn2f_81dP",
        "outputId": "981df991-3414-49aa-e988-aa89b7eaa0ef"
      },
      "source": [
        "install.packages(\"equatags\",dependencies = T)"
      ],
      "execution_count": 42,
      "outputs": [
        {
          "output_type": "stream",
          "name": "stderr",
          "text": [
            "Installing package into ‘/usr/local/lib/R/site-library’\n",
            "(as ‘lib’ is unspecified)\n",
            "\n"
          ]
        }
      ]
    },
    {
      "cell_type": "code",
      "metadata": {
        "colab": {
          "base_uri": "https://localhost:8080/"
        },
        "id": "b4HjxI9587tl",
        "outputId": "98e32cde-19fe-4208-e7e4-95de84617f4d"
      },
      "source": [
        "install.packages(\"sf\",dependencies = T)"
      ],
      "execution_count": null,
      "outputs": [
        {
          "output_type": "stream",
          "name": "stderr",
          "text": [
            "Installing package into ‘/usr/local/lib/R/site-library’\n",
            "(as ‘lib’ is unspecified)\n",
            "\n",
            "also installing the dependencies ‘geometries’, ‘jsonify’, ‘rapidjsonr’, ‘sfheaders’, ‘geojsonsf’, ‘markdown’, ‘leaflet.providers’, ‘dichromat’, ‘XML’, ‘leafem’, ‘leaflet’, ‘leafpop’, ‘satellite’, ‘spatstat.data’, ‘deldir’, ‘spatstat.sparse’, ‘tensor’, ‘goftest’, ‘tmaptools’, ‘widgetframe’, ‘leafsync’, ‘lwgeom’, ‘mapview’, ‘microbenchmark’, ‘odbc’, ‘pool’, ‘raster’, ‘rgdal’, ‘RPostgres’, ‘RPostgreSQL’, ‘spatstat’, ‘spatstat.geom’, ‘spatstat.core’, ‘spatstat.linnet’, ‘spatstat.utils’, ‘stars’, ‘terra’, ‘tmap’\n",
            "\n",
            "\n"
          ]
        }
      ]
    },
    {
      "cell_type": "code",
      "metadata": {
        "id": "vib7_ZMKiG3M"
      },
      "source": [
        ""
      ],
      "execution_count": null,
      "outputs": []
    }
  ]
}